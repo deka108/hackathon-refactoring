{
 "cells": [
  {
   "cell_type": "code",
   "execution_count": 9,
   "id": "c54f2ae8-9ae7-47f7-9335-6a7e69a9bd9c",
   "metadata": {},
   "outputs": [],
   "source": [
    "from rope.base.project import Project\n",
    "from rope.base import libutils\n",
    "\n",
    "\n",
    "class RefactoringUtils(object):\n",
    "    def __init__(self, root):\n",
    "        self.root = root\n",
    "        self._project = Project(self.root)\n",
    "    \n",
    "    @staticmethod\n",
    "    def _get_functions_from_pymod(pymod):\n",
    "        print(pymod)\n",
    "        funcs = []\n",
    "        for name, item in pymod.get_attributes().items():\n",
    "            if item.get_object().get_kind() == \"function\":\n",
    "                funcs.append(name)\n",
    "        return funcs\n",
    "    \n",
    "    def find_functions_on_script(self, code_str):\n",
    "        py_mod = libutils.get_string_module(self._project, code_str)\n",
    "        return self._get_functions_from_pymod(py_mod)\n",
    "    \n",
    "    def find_functions_on_file(self, file_path):\n",
    "        res = project.get_resource(\"path/to/to_nested.py\")\n",
    "        py_mod = project.get_module(libutils.modname(res))\n",
    "        return self._get_functions_from_pymod(py_mod)\n",
    "    \n",
    "    def find_functions_on_notebook(self, notebook_path):\n",
    "        # find the equivalent path in staging based on the database\n",
    "        file_path = notebook_path\n",
    "        return self.find_functions_on_file(file_path)\n",
    "    "
   ]
  },
  {
   "cell_type": "code",
   "execution_count": 10,
   "id": "f00f3124-72c8-48b9-8a75-928fc14d3241",
   "metadata": {},
   "outputs": [],
   "source": [
    "ru = RefactoringUtils(\".\")"
   ]
  },
  {
   "cell_type": "code",
   "execution_count": 11,
   "id": "51af281b-d24d-45b6-84f3-8c1b5e436fdc",
   "metadata": {},
   "outputs": [
    {
     "name": "stdout",
     "output_type": "stream",
     "text": [
      "<rope.base.pyobjectsdef.PyModule object at 0x10ac4f820>\n"
     ]
    },
    {
     "data": {
      "text/plain": [
       "['power_func', 'square']"
      ]
     },
     "execution_count": 11,
     "metadata": {},
     "output_type": "execute_result"
    }
   ],
   "source": [
    "ru.find_functions_on_script( \"\"\"def power_func(num, power):\n",
    "    return num**power\n",
    "\n",
    "def square(num):\n",
    "    return power_func(num, 2)\n",
    "\"\"\")"
   ]
  },
  {
   "cell_type": "code",
   "execution_count": null,
   "id": "fd010f91-2086-449a-8bc2-4170ab2be230",
   "metadata": {},
   "outputs": [],
   "source": []
  }
 ],
 "metadata": {
  "kernelspec": {
   "display_name": "Python 3",
   "language": "python",
   "name": "python3"
  },
  "language_info": {
   "codemirror_mode": {
    "name": "ipython",
    "version": 3
   },
   "file_extension": ".py",
   "mimetype": "text/x-python",
   "name": "python",
   "nbconvert_exporter": "python",
   "pygments_lexer": "ipython3",
   "version": "3.9.10"
  },
  "widgets": {
   "application/vnd.jupyter.widget-state+json": {
    "state": {},
    "version_major": 2,
    "version_minor": 0
   }
  }
 },
 "nbformat": 4,
 "nbformat_minor": 5
}
