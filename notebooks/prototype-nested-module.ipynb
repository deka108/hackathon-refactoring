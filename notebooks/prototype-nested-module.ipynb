{
 "cells": [
  {
   "cell_type": "code",
   "execution_count": 6,
   "id": "da0c9610-a02b-425b-9bad-d783d8775ca7",
   "metadata": {},
   "outputs": [],
   "source": [
    "from rope.base.project import Project"
   ]
  },
  {
   "cell_type": "code",
   "execution_count": 7,
   "id": "b0970cef-2a4d-45b2-9aef-3ee1e3bb644d",
   "metadata": {},
   "outputs": [],
   "source": [
    "project = Project('../test-refactor/')"
   ]
  },
  {
   "cell_type": "code",
   "execution_count": 8,
   "id": "3fdd5a51-d2bd-481d-bd6d-e6d9ffc61282",
   "metadata": {},
   "outputs": [
    {
     "data": {
      "text/plain": [
       "'/Users/deka.akbar/Projects/hackathon-auto-refactoring/test-refactor/'"
      ]
     },
     "execution_count": 8,
     "metadata": {},
     "output_type": "execute_result"
    }
   ],
   "source": [
    "project.root.real_path"
   ]
  },
  {
   "cell_type": "code",
   "execution_count": 9,
   "id": "b85e6a37-6f47-4cba-a311-58410b82ccc8",
   "metadata": {},
   "outputs": [],
   "source": [
    "from rope.contrib.generate import create_module, create_package"
   ]
  },
  {
   "cell_type": "code",
   "execution_count": 10,
   "id": "f57ff613-3c59-494d-a388-9e92ce621563",
   "metadata": {},
   "outputs": [],
   "source": [
    "# create module will create the file\n",
    "# create package will create the folder with the __init__"
   ]
  },
  {
   "cell_type": "code",
   "execution_count": 14,
   "id": "afe1f44b-23ca-426e-812c-acd89f323486",
   "metadata": {},
   "outputs": [
    {
     "data": {
      "text/plain": [
       "<rope.base.resources.File at 0x10f864af0>"
      ]
     },
     "execution_count": 14,
     "metadata": {},
     "output_type": "execute_result"
    }
   ],
   "source": [
    "create_package(project, \"mymod2\")\n",
    "create_module(project, \"mymod2.inmod1\")"
   ]
  },
  {
   "cell_type": "code",
   "execution_count": 15,
   "id": "8544ac94-b2e3-4cf8-8232-75fe012a9865",
   "metadata": {},
   "outputs": [
    {
     "data": {
      "text/plain": [
       "<rope.base.resources.Folder at 0x107514cd0>"
      ]
     },
     "execution_count": 15,
     "metadata": {},
     "output_type": "execute_result"
    }
   ],
   "source": [
    "create_package(project, \"mymod2.nested\")"
   ]
  },
  {
   "cell_type": "code",
   "execution_count": 16,
   "id": "0fe02b98-315f-4f11-8de8-2a7d31bdb6c3",
   "metadata": {},
   "outputs": [
    {
     "ename": "ResourceNotFoundError",
     "evalue": "Resource <newmod2> does not exist",
     "output_type": "error",
     "traceback": [
      "\u001b[0;31m---------------------------------------------------------------------------\u001b[0m",
      "\u001b[0;31mResourceNotFoundError\u001b[0m                     Traceback (most recent call last)",
      "\u001b[0;32m<ipython-input-16-1c0660e338d8>\u001b[0m in \u001b[0;36m<module>\u001b[0;34m\u001b[0m\n\u001b[0;32m----> 1\u001b[0;31m \u001b[0mcreate_package\u001b[0m\u001b[0;34m(\u001b[0m\u001b[0mproject\u001b[0m\u001b[0;34m,\u001b[0m \u001b[0;34m\"newmod2.nested1.nested2\"\u001b[0m\u001b[0;34m)\u001b[0m\u001b[0;34m\u001b[0m\u001b[0;34m\u001b[0m\u001b[0m\n\u001b[0m",
      "\u001b[0;32m~/universe-venv/lib/python3.9/site-packages/rope/contrib/generate.py\u001b[0m in \u001b[0;36mcreate_package\u001b[0;34m(project, name, sourcefolder)\u001b[0m\n\u001b[1;32m     34\u001b[0m     \u001b[0mparent\u001b[0m \u001b[0;34m=\u001b[0m \u001b[0msourcefolder\u001b[0m\u001b[0;34m\u001b[0m\u001b[0;34m\u001b[0m\u001b[0m\n\u001b[1;32m     35\u001b[0m     \u001b[0;32mfor\u001b[0m \u001b[0mpackage\u001b[0m \u001b[0;32min\u001b[0m \u001b[0mpackages\u001b[0m\u001b[0;34m[\u001b[0m\u001b[0;34m:\u001b[0m\u001b[0;34m-\u001b[0m\u001b[0;36m1\u001b[0m\u001b[0;34m]\u001b[0m\u001b[0;34m:\u001b[0m\u001b[0;34m\u001b[0m\u001b[0;34m\u001b[0m\u001b[0m\n\u001b[0;32m---> 36\u001b[0;31m         \u001b[0mparent\u001b[0m \u001b[0;34m=\u001b[0m \u001b[0mparent\u001b[0m\u001b[0;34m.\u001b[0m\u001b[0mget_child\u001b[0m\u001b[0;34m(\u001b[0m\u001b[0mpackage\u001b[0m\u001b[0;34m)\u001b[0m\u001b[0;34m\u001b[0m\u001b[0;34m\u001b[0m\u001b[0m\n\u001b[0m\u001b[1;32m     37\u001b[0m     \u001b[0mmade_packages\u001b[0m \u001b[0;34m=\u001b[0m \u001b[0mparent\u001b[0m\u001b[0;34m.\u001b[0m\u001b[0mcreate_folder\u001b[0m\u001b[0;34m(\u001b[0m\u001b[0mpackages\u001b[0m\u001b[0;34m[\u001b[0m\u001b[0;34m-\u001b[0m\u001b[0;36m1\u001b[0m\u001b[0;34m]\u001b[0m\u001b[0;34m)\u001b[0m\u001b[0;34m\u001b[0m\u001b[0;34m\u001b[0m\u001b[0m\n\u001b[1;32m     38\u001b[0m     \u001b[0mmade_packages\u001b[0m\u001b[0;34m.\u001b[0m\u001b[0mcreate_file\u001b[0m\u001b[0;34m(\u001b[0m\u001b[0;34m\"__init__.py\"\u001b[0m\u001b[0;34m)\u001b[0m\u001b[0;34m\u001b[0m\u001b[0;34m\u001b[0m\u001b[0m\n",
      "\u001b[0;32m~/universe-venv/lib/python3.9/site-packages/rope/base/resources.py\u001b[0m in \u001b[0;36mget_child\u001b[0;34m(self, name)\u001b[0m\n\u001b[1;32m    191\u001b[0m \u001b[0;34m\u001b[0m\u001b[0m\n\u001b[1;32m    192\u001b[0m     \u001b[0;32mdef\u001b[0m \u001b[0mget_child\u001b[0m\u001b[0;34m(\u001b[0m\u001b[0mself\u001b[0m\u001b[0;34m,\u001b[0m \u001b[0mname\u001b[0m\u001b[0;34m)\u001b[0m\u001b[0;34m:\u001b[0m\u001b[0;34m\u001b[0m\u001b[0;34m\u001b[0m\u001b[0m\n\u001b[0;32m--> 193\u001b[0;31m         \u001b[0;32mreturn\u001b[0m \u001b[0mself\u001b[0m\u001b[0;34m.\u001b[0m\u001b[0mproject\u001b[0m\u001b[0;34m.\u001b[0m\u001b[0mget_resource\u001b[0m\u001b[0;34m(\u001b[0m\u001b[0mself\u001b[0m\u001b[0;34m.\u001b[0m\u001b[0m_get_child_path\u001b[0m\u001b[0;34m(\u001b[0m\u001b[0mname\u001b[0m\u001b[0;34m)\u001b[0m\u001b[0;34m)\u001b[0m\u001b[0;34m\u001b[0m\u001b[0;34m\u001b[0m\u001b[0m\n\u001b[0m\u001b[1;32m    194\u001b[0m \u001b[0;34m\u001b[0m\u001b[0m\n\u001b[1;32m    195\u001b[0m     \u001b[0;32mdef\u001b[0m \u001b[0mhas_child\u001b[0m\u001b[0;34m(\u001b[0m\u001b[0mself\u001b[0m\u001b[0;34m,\u001b[0m \u001b[0mname\u001b[0m\u001b[0;34m)\u001b[0m\u001b[0;34m:\u001b[0m\u001b[0;34m\u001b[0m\u001b[0;34m\u001b[0m\u001b[0m\n",
      "\u001b[0;32m~/universe-venv/lib/python3.9/site-packages/rope/base/project.py\u001b[0m in \u001b[0;36mget_resource\u001b[0;34m(self, resource_name)\u001b[0m\n\u001b[1;32m     38\u001b[0m         \u001b[0mpath\u001b[0m \u001b[0;34m=\u001b[0m \u001b[0mself\u001b[0m\u001b[0;34m.\u001b[0m\u001b[0m_get_resource_path\u001b[0m\u001b[0;34m(\u001b[0m\u001b[0mresource_name\u001b[0m\u001b[0;34m)\u001b[0m\u001b[0;34m\u001b[0m\u001b[0;34m\u001b[0m\u001b[0m\n\u001b[1;32m     39\u001b[0m         \u001b[0;32mif\u001b[0m \u001b[0;32mnot\u001b[0m \u001b[0mos\u001b[0m\u001b[0;34m.\u001b[0m\u001b[0mpath\u001b[0m\u001b[0;34m.\u001b[0m\u001b[0mexists\u001b[0m\u001b[0;34m(\u001b[0m\u001b[0mpath\u001b[0m\u001b[0;34m)\u001b[0m\u001b[0;34m:\u001b[0m\u001b[0;34m\u001b[0m\u001b[0;34m\u001b[0m\u001b[0m\n\u001b[0;32m---> 40\u001b[0;31m             raise exceptions.ResourceNotFoundError(\n\u001b[0m\u001b[1;32m     41\u001b[0m                 \u001b[0;34m\"Resource <%s> does not exist\"\u001b[0m \u001b[0;34m%\u001b[0m \u001b[0mresource_name\u001b[0m\u001b[0;34m\u001b[0m\u001b[0;34m\u001b[0m\u001b[0m\n\u001b[1;32m     42\u001b[0m             )\n",
      "\u001b[0;31mResourceNotFoundError\u001b[0m: Resource <newmod2> does not exist"
     ]
    }
   ],
   "source": [
    "create_package(project, \"newmod2.nested1.nested2\")"
   ]
  },
  {
   "cell_type": "code",
   "execution_count": null,
   "id": "91ed9d1f-7d0a-43ed-b779-47ce70b3dbbb",
   "metadata": {},
   "outputs": [],
   "source": []
  },
  {
   "cell_type": "code",
   "execution_count": null,
   "id": "8d751680-52c3-441f-b27e-f78f335f4318",
   "metadata": {},
   "outputs": [],
   "source": []
  }
 ],
 "metadata": {
  "kernelspec": {
   "display_name": "Python 3",
   "language": "python",
   "name": "python3"
  },
  "language_info": {
   "codemirror_mode": {
    "name": "ipython",
    "version": 3
   },
   "file_extension": ".py",
   "mimetype": "text/x-python",
   "name": "python",
   "nbconvert_exporter": "python",
   "pygments_lexer": "ipython3",
   "version": "3.9.10"
  },
  "widgets": {
   "application/vnd.jupyter.widget-state+json": {
    "state": {},
    "version_major": 2,
    "version_minor": 0
   }
  }
 },
 "nbformat": 4,
 "nbformat_minor": 5
}
