{
 "cells": [
  {
   "cell_type": "code",
   "execution_count": 2,
   "id": "69b1ab20-6d54-4d0a-a4df-c5f8c9d07e8f",
   "metadata": {},
   "outputs": [],
   "source": [
    "import json"
   ]
  },
  {
   "cell_type": "code",
   "execution_count": 3,
   "id": "f7c2baa6-72e6-4776-89b0-ee49d8fc0d6c",
   "metadata": {},
   "outputs": [],
   "source": [
    "RESPONSE = \"response\"\n",
    "REQUEST = \"request\"\n",
    "\n",
    "def get_headers(entry, msg_type=REQUEST):\n",
    "    headers = sorted(entry[msg_type][\"headers\"], key=lambda x: x[\"name\"])\n",
    "    print(len(headers))\n",
    "    return headers\n",
    "\n",
    "def get_cookies(entry, msg_type=REQUEST):\n",
    "    cookies = sorted(entry[msg_type][\"cookies\"], key=lambda x: x[\"name\"])\n",
    "    print(len(cookies))\n",
    "    return cookies\n",
    "\n",
    "def sort_by_name(entries):\n",
    "    return sorted([entry[\"name\"] for entry in entries])"
   ]
  },
  {
   "cell_type": "code",
   "execution_count": 4,
   "id": "0b5ede12-63f0-4836-9abf-ad7fc775e62b",
   "metadata": {},
   "outputs": [],
   "source": [
    "with open(\"attach-detach.json\") as fp:\n",
    "    data = json.load(fp)\n",
    "\n",
    "data_entries = data[\"log\"][\"entries\"]"
   ]
  },
  {
   "cell_type": "code",
   "execution_count": 5,
   "id": "4e4c106d-aa36-4180-a9ee-d44326597845",
   "metadata": {},
   "outputs": [
    {
     "name": "stdout",
     "output_type": "stream",
     "text": [
      "req #1 [API_URL]&pp=q&pp=%3Fo%3D6051921418418893&pp=h&pp=%2F&pp=g&pp=%23notebook%2F53992874278796&pp=t&pp=E2%20Dogfood&pp=ts&pp=1647006015719&pp=pr&pp=%2F&id0=1570839371324654&t0=click&n0=div&c0=react-select__control%20react-select__control--is-focused%20react-select__control--menu-is-open%20webapp-css-1lil8ej-control&y0=%40div%3B%23legacy-app-root%3B%7C%40div%3B%23overallView%3B.new-notebook%3B%7C%40div%3B%7C%40div%3B%7C%40uses-legacy-bootstrap%3B%5Bdata-wrapped-element-id%3DContextBarView%5D%3B%7C%40div%3B%23context-bar%3B.context-bar%3B.new-notebook%3B%7C%40div%3B.context-bar__left%3B%7C%40div%3B.attach-cluster-select-wrapper%3B%7C%40div%3B.attach-cluster-select%3B.clusters%3B.control-field%3B.webapp-css-wwrqjh-container%3B%7C%40div%3B.react-select__control%3B.react-select__control--is-focused%3B.react-select__control--menu-is-open%3B.webapp-css-1lil8ej-control%3B%7C&k0=workspaceId&k0=6051921418418893&k0=Experiment%3A%20enableWorkspaceTour&k0=false&k0=Experiment%3A%20enableHomepagePrescriptiveQuickstart&k0=true&k0=Experiment%3A%20showAddTeammatesButton&k0=false&k0=cloud&k0=AWS&k0=featureTier&k0=ENTERPRISE_TIER_V2&k0=locale&k0=en&k0=Screen%20Dimensions&k0=1792%20x%201120&k0=Viewport%20Width&k0=1792&k0=Viewport%20Height&k0=1009&k0=Browser%20Language&k0=en-GB&ts0=1647006028811&st=1647006030764\n",
      "req #2 [API_URL]/notebook/53992874278796\n",
      "req #3 [API_URL]&pp=q&pp=%3Fo%3D6051921418418893&pp=h&pp=%2F&pp=g&pp=%23notebook%2F53992874278796&pp=t&pp=E2%20Dogfood&pp=ts&pp=1647006015719&pp=pr&pp=%2F&id0=6214907388835991&t0=click&n0=span&c0=details&y0=%40div%3B%23legacy-app-root%3B%7C%40div%3B%23overallView%3B.new-notebook%3B%7C%40div%3B%7C%40div%3B%7C%40uses-legacy-bootstrap%3B%5Bdata-wrapped-element-id%3DContextBarView%5D%3B%7C%40div%3B%23context-bar%3B.context-bar%3B.new-notebook%3B%7C%40div%3B.context-bar__left%3B%7C%40div%3B.attach-cluster-select-wrapper%3B%7C%40div%3B.attach-cluster-select%3B.clusters%3B.control-field%3B.webapp-css-wwrqjh-container%3B%7C%40div%3B.react-select__menu%3B.webapp-css-z13yvb-menu%3B%7C%40div%3B.react-select__menu-list%3B.webapp-css-1lnk847%3B%7C%40div%3B.react-select__group%3B.webapp-css-2h75sf%3B%7C%40div%3B%7C%40div%3B%23react-select-2-option-0-0%3B.react-select__option%3B.react-select__option--is-focused%3B.webapp-css-yrqc6t-option%3B%5Btabindex%3D-1%5D%3B%7C%40div%3B%7C%40div%3B%7C%40span%3B.details%3B%5Bdata-testid%3Ddetails%5D%3B%7C&k0=workspaceId&k0=6051921418418893&k0=Experiment%3A%20enableWorkspaceTour&k0=false&k0=Experiment%3A%20enableHomepagePrescriptiveQuickstart&k0=true&k0=Experiment%3A%20showAddTeammatesButton&k0=false&k0=cloud&k0=AWS&k0=featureTier&k0=ENTERPRISE_TIER_V2&k0=locale&k0=en&k0=Screen%20Dimensions&k0=1792%20x%201120&k0=Viewport%20Width&k0=1792&k0=Viewport%20Height&k0=1009&k0=Browser%20Language&k0=en-GB&ts0=1647006036466&id1=2688495977222755&k1=workspaceId&k1=6051921418418893&k1=Experiment%3A%20enableWorkspaceTour&k1=false&k1=Experiment%3A%20enableHomepagePrescriptiveQuickstart&k1=true&k1=Experiment%3A%20showAddTeammatesButton&k1=false&k1=cloud&k1=AWS&k1=featureTier&k1=ENTERPRISE_TIER_V2&k1=locale&k1=en&k1=Screen%20Dimensions&k1=1792%20x%201120&k1=Viewport%20Width&k1=1792&k1=Viewport%20Height&k1=1009&k1=Browser%20Language&k1=en-GB&k1=clusterId&k1=1118-013127-82wynr8t&k1=notebookId&k1=53992874278796&t1=Notebook%20Attached%20To%20Cluster&ts1=1647006036470&st=1647006036471\n",
      "req #180 [API_URL]/media/notebook_illustration.d0d5ad3b.svg\n",
      "req #193 [API_URL]/media/icon-new-notebook.2bc783e0.svg\n",
      "req #194 [API_URL]/media/icon-quickstart-notebook.62cf29ed.svg\n",
      "req #223 [API_URL]/media/ml_dashboard_ill_notebook.2993bcc7.svg\n",
      "req #269 [API_URL]/media/mlflow_notebook_revision_icon.8f838dbc.svg\n",
      "req #281 [API_URL]/media/view_notebook_revision.06996110.svg\n",
      "req #456 [API_URL]&pp=q&pp=%3Fo%3D6051921418418893&pp=h&pp=%2F&pp=g&pp=%23notebook%2F53992874278796&pp=t&pp=E2%20Dogfood&pp=ts&pp=1647006015719&pp=pr&pp=%2F&id0=4902910771011616&t0=click&n0=svg&c0=webapp-css-8mmkcg&y0=%40div%3B%23legacy-app-root%3B%7C%40div%3B%23overallView%3B.new-notebook%3B%7C%40div%3B%7C%40div%3B%7C%40uses-legacy-bootstrap%3B%5Bdata-wrapped-element-id%3DContextBarView%5D%3B%7C%40div%3B%23context-bar%3B.context-bar%3B.new-notebook%3B%7C%40div%3B.context-bar__left%3B%7C%40div%3B.attach-cluster-select-wrapper%3B%7C%40div%3B.attach-cluster-select%3B.clusters%3B.control-field%3B.webapp-css-wwrqjh-container%3B%7C%40div%3B.react-select__control%3B.react-select__control--is-focused%3B.react-select__control--menu-is-open%3B.webapp-css-1lil8ej-control%3B%7C%40div%3B.react-select__indicators%3B.webapp-css-1wy0on6%3B%7C%40div%3B.react-select__dropdown-indicator%3B.react-select__indicator%3B.webapp-css-10opisi-indicatorContainer%3B%5Baria-hidden%3Dtrue%5D%3B%7C%40svg%3B.webapp-css-8mmkcg%3B%7C&k0=workspaceId&k0=6051921418418893&k0=Experiment%3A%20enableWorkspaceTour&k0=false&k0=Experiment%3A%20enableHomepagePrescriptiveQuickstart&k0=true&k0=Experiment%3A%20showAddTeammatesButton&k0=false&k0=cloud&k0=AWS&k0=featureTier&k0=ENTERPRISE_TIER_V2&k0=locale&k0=en&k0=Screen%20Dimensions&k0=1792%20x%201120&k0=Viewport%20Width&k0=1792&k0=Viewport%20Height&k0=1009&k0=Browser%20Language&k0=en-GB&ts0=1647006041978&st=1647006042810\n",
      "req #457 [API_URL]&pp=q&pp=%3Fo%3D6051921418418893&pp=h&pp=%2F&pp=g&pp=%23notebook%2F53992874278796&pp=t&pp=E2%20Dogfood&pp=ts&pp=1647006015719&pp=pr&pp=%2F&id0=7793552422443207&t0=click&n0=a&y0=%40div%3B%23legacy-app-root%3B%7C%40div%3B%23overallView%3B.new-notebook%3B%7C%40div%3B%7C%40div%3B%7C%40uses-legacy-bootstrap%3B%5Bdata-wrapped-element-id%3DContextBarView%5D%3B%7C%40div%3B%23context-bar%3B.context-bar%3B.new-notebook%3B%7C%40div%3B.context-bar__left%3B%7C%40div%3B.attach-cluster-select-wrapper%3B%7C%40div%3B.attach-cluster-select%3B.clusters%3B.control-field%3B.webapp-css-wwrqjh-container%3B%7C%40div%3B.react-select__menu%3B.webapp-css-z13yvb-menu%3B%7C%40div%3B.react-select__menu-list%3B.webapp-css-1lnk847%3B%7C%40div%3B.react-select__group%3B.webapp-css-2h75sf%3B%7C%40div%3B%7C%40div%3B%23react-select-2-option-0-0%3B.react-select__option%3B.react-select__option--is-focused%3B.react-select__option--is-selected%3B.webapp-css-2bqk9c-option%3B%5Btabindex%3D-1%5D%3B%7C%40div%3B%7C%40div%3B%7C%40div%3B%5Bdata-testid%3Dfooter%5D%3B%7C%40div%3B.attach-cluster-select__action-links%3B%7C%40a%3B%5Bdata-name%3DContext%20Bar%20Detach%5D%3B%7C&k0=workspaceId&k0=6051921418418893&k0=Experiment%3A%20enableWorkspaceTour&k0=false&k0=Experiment%3A%20enableHomepagePrescriptiveQuickstart&k0=true&k0=Experiment%3A%20showAddTeammatesButton&k0=false&k0=cloud&k0=AWS&k0=featureTier&k0=ENTERPRISE_TIER_V2&k0=locale&k0=en&k0=Screen%20Dimensions&k0=1792%20x%201120&k0=Viewport%20Width&k0=1792&k0=Viewport%20Height&k0=1009&k0=Browser%20Language&k0=en-GB&ts0=1647006043903&st=1647006044810\n",
      "req #458 [API_URL]/notebook/53992874278796\n",
      "req #459 [API_URL]&pp=q&pp=%3Fo%3D6051921418418893&pp=h&pp=%2F&pp=g&pp=%23notebook%2F53992874278796&pp=t&pp=E2%20Dogfood&pp=ts&pp=1647006015719&pp=pr&pp=%2F&id0=6432561679824390&t0=click&n0=a&c0=btn%20btn-primary%20confirm-button&h0=%23&y0=%40uses-legacy-bootstrap%3B%7C%40div%3B.in%3B.modal%3B.react-modal-place%3B%5Baria-hidden%3Dfalse%5D%3B%7C%40uses-legacy-bootstrap%3B%7C%40div%3B.confirm%3B.modal%3B.modal-main-confirm%3B.modal-narrow%3B%7C%40div%3B.modal-footer%3B.modal-footer-confirm%3B%7C%40div%3B%7C%40a%3B.btn%3B.btn-primary%3B.confirm-button%3B%5Bdata-button-type%3Dsubmit%5D%3B%5Bhref%3D%23%5D%3B%5Btabindex%3D1%5D%3B%7C&k0=workspaceId&k0=6051921418418893&k0=Experiment%3A%20enableWorkspaceTour&k0=false&k0=Experiment%3A%20enableHomepagePrescriptiveQuickstart&k0=true&k0=Experiment%3A%20showAddTeammatesButton&k0=false&k0=cloud&k0=AWS&k0=featureTier&k0=ENTERPRISE_TIER_V2&k0=locale&k0=en&k0=Screen%20Dimensions&k0=1792%20x%201120&k0=Viewport%20Width&k0=1792&k0=Viewport%20Height&k0=1009&k0=Browser%20Language&k0=en-GB&ts0=1647006045430&st=1647006046811\n"
     ]
    }
   ],
   "source": [
    "for i, entry in enumerate(data_entries):\n",
    "    url = entry[\"request\"][\"url\"]\n",
    "    if \"notebook\" in url:\n",
    "        print(f'req #{i} {url}')"
   ]
  },
  {
   "cell_type": "code",
   "execution_count": 6,
   "id": "83f57478-91aa-47b7-83c7-9dbe11e0fb8f",
   "metadata": {},
   "outputs": [
    {
     "data": {
      "text/plain": [
       "[2, 458]"
      ]
     },
     "execution_count": 6,
     "metadata": {},
     "output_type": "execute_result"
    }
   ],
   "source": [
    "[2, 458]"
   ]
  },
  {
   "cell_type": "code",
   "execution_count": 8,
   "id": "b2a9d3d3-7392-4b5f-9b99-5cade46a8a85",
   "metadata": {},
   "outputs": [
    {
     "ename": "KeyError",
     "evalue": "'postData'",
     "output_type": "error",
     "traceback": [
      "\u001b[0;31m---------------------------------------------------------------------------\u001b[0m",
      "\u001b[0;31mKeyError\u001b[0m                                  Traceback (most recent call last)",
      "\u001b[0;32m<ipython-input-8-67b58c7ca4cd>\u001b[0m in \u001b[0;36m<module>\u001b[0;34m\u001b[0m\n\u001b[0;32m----> 1\u001b[0;31m \u001b[0mdata_entries\u001b[0m\u001b[0;34m[\u001b[0m\u001b[0;36m2\u001b[0m\u001b[0;34m]\u001b[0m\u001b[0;34m[\u001b[0m\u001b[0;34m'postData'\u001b[0m\u001b[0;34m]\u001b[0m\u001b[0;34m\u001b[0m\u001b[0;34m\u001b[0m\u001b[0m\n\u001b[0m\u001b[1;32m      2\u001b[0m \u001b[0;31m# req_headers = get_headers(data_entries[2])\u001b[0m\u001b[0;34m\u001b[0m\u001b[0;34m\u001b[0m\u001b[0m\n\u001b[1;32m      3\u001b[0m \u001b[0;31m# print(json.dumps(req_headers, indent=2))\u001b[0m\u001b[0;34m\u001b[0m\u001b[0;34m\u001b[0m\u001b[0m\n",
      "\u001b[0;31mKeyError\u001b[0m: 'postData'"
     ]
    }
   ],
   "source": [
    "data_entries[2]['postData']\n",
    "# req_headers = get_headers(data_entries[2])\n",
    "# print(json.dumps(req_headers, indent=2))"
   ]
  },
  {
   "cell_type": "code",
   "execution_count": 7,
   "id": "251dafb1-1465-4e1c-8cf5-7374b427478e",
   "metadata": {},
   "outputs": [
    {
     "ename": "SyntaxError",
     "evalue": "invalid syntax (<ipython-input-7-33990f3db929>, line 4)",
     "output_type": "error",
     "traceback": [
      "\u001b[0;36m  File \u001b[0;32m\"<ipython-input-7-33990f3db929>\"\u001b[0;36m, line \u001b[0;32m4\u001b[0m\n\u001b[0;31m    text:\"{\"@method\":\"detach\"}\"\u001b[0m\n\u001b[0m                   ^\u001b[0m\n\u001b[0;31mSyntaxError\u001b[0m\u001b[0;31m:\u001b[0m invalid syntax\n"
     ]
    }
   ],
   "source": [
    "# test\n",
    "/notebook/53992874278796\n",
    "mimeType:\"application/json; charset=UTF-8\"\n",
    "text:\"{\"@method\":\"detach\"}\""
   ]
  },
  {
   "cell_type": "code",
   "execution_count": null,
   "id": "5c548d6c-c3c4-41f3-aadb-87333dd9f0f7",
   "metadata": {},
   "outputs": [],
   "source": [
    "# get notebook id, notebook path\n",
    "# {\"clusterId\":\"1118-013127-82wynr8t\",\"@method\":\"attach\"}"
   ]
  }
 ],
 "metadata": {
  "kernelspec": {
   "display_name": "Python 3",
   "language": "python",
   "name": "python3"
  },
  "language_info": {
   "codemirror_mode": {
    "name": "ipython",
    "version": 3
   },
   "file_extension": ".py",
   "mimetype": "text/x-python",
   "name": "python",
   "nbconvert_exporter": "python",
   "pygments_lexer": "ipython3",
   "version": "3.9.10"
  },
  "widgets": {
   "application/vnd.jupyter.widget-state+json": {
    "state": {},
    "version_major": 2,
    "version_minor": 0
   }
  }
 },
 "nbformat": 4,
 "nbformat_minor": 5
}
