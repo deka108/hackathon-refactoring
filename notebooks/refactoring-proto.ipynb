{
 "cells": [
  {
   "cell_type": "markdown",
   "id": "d52f1143-32ab-4d41-80db-ecb5363364aa",
   "metadata": {},
   "source": [
    "### List Functions"
   ]
  },
  {
   "cell_type": "code",
   "execution_count": 2,
   "id": "3aa2941c-618e-48cb-ab26-b3531a27444e",
   "metadata": {},
   "outputs": [],
   "source": [
    "from rope.base.project import Project"
   ]
  },
  {
   "cell_type": "code",
   "execution_count": 3,
   "id": "4434bc80-1181-4ba0-9c70-7dfdb92e4e1a",
   "metadata": {},
   "outputs": [],
   "source": [
    "project = Project('.')"
   ]
  },
  {
   "cell_type": "code",
   "execution_count": 14,
   "id": "dedff725-26e8-416c-90ce-ca4ceacc65b9",
   "metadata": {},
   "outputs": [
    {
     "data": {
      "text/plain": [
       "<rope.base.resources.File at 0x117fce8b0>"
      ]
     },
     "execution_count": 14,
     "metadata": {},
     "output_type": "execute_result"
    }
   ],
   "source": [
    "mod = project.get_resource(\"file_with_funcs.py\")\n",
    "mod"
   ]
  },
  {
   "cell_type": "code",
   "execution_count": 8,
   "id": "53159041-6cea-4743-99ea-aa1897115e7f",
   "metadata": {},
   "outputs": [],
   "source": [
    "from rope.base import libutils"
   ]
  },
  {
   "cell_type": "code",
   "execution_count": 9,
   "id": "d8d3ce7a-8562-450f-991b-5033038cac78",
   "metadata": {},
   "outputs": [],
   "source": [
    "libutils.analyze_module(project, mod)"
   ]
  },
  {
   "cell_type": "code",
   "execution_count": 13,
   "id": "bb385d36-927a-4f81-9818-e9758f8470a8",
   "metadata": {},
   "outputs": [
    {
     "data": {
      "text/plain": [
       "<rope.base.pyobjectsdef.PyModule at 0x117dfa7c0>"
      ]
     },
     "execution_count": 13,
     "metadata": {},
     "output_type": "execute_result"
    }
   ],
   "source": [
    "pymod = libutils.get_string_module(project, \"\"\"def power_func(num, power):\n",
    "    return num**power\n",
    "\n",
    "def square(num):\n",
    "    return power_func(num, 2)\n",
    "\"\"\")\n",
    "pymod"
   ]
  },
  {
   "cell_type": "code",
   "execution_count": 21,
   "id": "c83b3061-83b4-4f24-9fb2-a9e850c32986",
   "metadata": {},
   "outputs": [],
   "source": [
    "# get members"
   ]
  },
  {
   "cell_type": "code",
   "execution_count": 29,
   "id": "5c6138eb-dc15-4555-999a-798881140ac6",
   "metadata": {},
   "outputs": [],
   "source": [
    "from inspect import getmembers, isfunction"
   ]
  },
  {
   "cell_type": "code",
   "execution_count": 30,
   "id": "367590a4-135c-4dca-84f1-a379ee5bb362",
   "metadata": {},
   "outputs": [],
   "source": [
    "import file_with_funcs"
   ]
  },
  {
   "cell_type": "code",
   "execution_count": 31,
   "id": "87ecc369-747d-434a-ae1e-8750de33f3b9",
   "metadata": {},
   "outputs": [
    {
     "data": {
      "text/plain": [
       "['__builtins__',\n",
       " '__cached__',\n",
       " '__doc__',\n",
       " '__file__',\n",
       " '__loader__',\n",
       " '__name__',\n",
       " '__package__',\n",
       " '__spec__',\n",
       " 'power_func',\n",
       " 'square']"
      ]
     },
     "execution_count": 31,
     "metadata": {},
     "output_type": "execute_result"
    }
   ],
   "source": [
    "dir(file_with_funcs)"
   ]
  },
  {
   "cell_type": "code",
   "execution_count": 24,
   "id": "932558b3-f385-4fac-80fb-dae45f5bba05",
   "metadata": {},
   "outputs": [],
   "source": [
    "res = getmembers(file_with_funcs, isfunction)[0][1]"
   ]
  },
  {
   "cell_type": "code",
   "execution_count": 27,
   "id": "f6ab91b1-87cf-46f4-8ac1-e51da2233914",
   "metadata": {},
   "outputs": [
    {
     "data": {
      "text/plain": [
       "<function file_with_funcs.power_func(num, power)>"
      ]
     },
     "execution_count": 27,
     "metadata": {},
     "output_type": "execute_result"
    }
   ],
   "source": [
    "res"
   ]
  },
  {
   "cell_type": "code",
   "execution_count": 32,
   "id": "c32f6ce2-8771-43fd-9b4f-7c3e7d97dcb4",
   "metadata": {},
   "outputs": [],
   "source": [
    "import inspect"
   ]
  },
  {
   "cell_type": "code",
   "execution_count": 33,
   "id": "238d5944-b345-467d-8729-0bd5f59d0fd0",
   "metadata": {},
   "outputs": [
    {
     "data": {
      "text/plain": [
       "'def power_func(num, power):\\n    return num**power\\n'"
      ]
     },
     "execution_count": 33,
     "metadata": {},
     "output_type": "execute_result"
    }
   ],
   "source": [
    "inspect.getsource(res)"
   ]
  },
  {
   "cell_type": "code",
   "execution_count": 34,
   "id": "b142d636-a34f-46c8-87a1-b236d5e15619",
   "metadata": {},
   "outputs": [
    {
     "data": {
      "text/plain": [
       "(['def power_func(num, power):\\n', '    return num**power\\n'], 1)"
      ]
     },
     "execution_count": 34,
     "metadata": {},
     "output_type": "execute_result"
    }
   ],
   "source": [
    "inspect.getsourcelines(res)"
   ]
  },
  {
   "cell_type": "code",
   "execution_count": null,
   "id": "320acce3-e755-4aca-9edd-00c448b1d3e1",
   "metadata": {},
   "outputs": [],
   "source": [
    "# caveats: have to be a python object\n",
    "\n",
    "# workaround\n",
    "# write string to a file vs eval\n",
    "# imports it\n",
    "# do inspect"
   ]
  },
  {
   "cell_type": "markdown",
   "id": "d9ae781e-785c-481f-bde7-8cbf764d80c8",
   "metadata": {},
   "source": [
    "### Finding Functions"
   ]
  },
  {
   "cell_type": "code",
   "execution_count": null,
   "id": "2813fb16-a7c1-486d-bf05-78bf05fe7481",
   "metadata": {},
   "outputs": [],
   "source": [
    "# @task\n",
    "# def move_class(ctxt, class_name, source, target, do=False):\n",
    "#     \"\"\"\n",
    "#     Move class: --class-name <> --source <module> --target <module> [--do False]\n",
    "#     \"\"\"\n",
    "#     finder = Finder(PROJECT, class_name)\n",
    "#     source_resource = PROJECT.get_resource(source)\n",
    "#     target_resource = PROJECT.get_resource(target)\n",
    "#     class_occurrence = next(\n",
    "#         occ for occ in finder.find_occurrences(resource=source_resource)\n",
    "#         if occ.is_defined())\n",
    "#     mover = move.create_move(PROJECT, source_resource, class_occurrence.offset)\n",
    "#     changes = mover.get_changes(target_resource)\n",
    "#     PROJECT.do(changes)"
   ]
  },
  {
   "cell_type": "code",
   "execution_count": 41,
   "id": "608fd925-1468-4217-b671-5e049477db38",
   "metadata": {},
   "outputs": [],
   "source": [
    "# find_occurrences\n",
    "# find_implementations\n",
    "# find_definition"
   ]
  },
  {
   "cell_type": "code",
   "execution_count": 46,
   "id": "62f99795-cff3-48ed-ab60-3bf1b7f7bcc9",
   "metadata": {},
   "outputs": [],
   "source": [
    "from rope.refactor import occurrences\n",
    "from rope.refactor.occurrences import Finder"
   ]
  },
  {
   "cell_type": "code",
   "execution_count": 74,
   "id": "4c80479b-d4ac-4f26-9fe9-3fdc7aa4f13f",
   "metadata": {},
   "outputs": [],
   "source": [
    "from rope.base.resources import File\n",
    "from pathlib import Path"
   ]
  },
  {
   "cell_type": "code",
   "execution_count": 76,
   "id": "5edc244d-bbaa-4de2-bfde-6657bcb4c83e",
   "metadata": {},
   "outputs": [
    {
     "name": "stdout",
     "output_type": "stream",
     "text": [
      "True\n",
      "False\n",
      "True\n",
      "True\n",
      "True\n"
     ]
    }
   ],
   "source": [
    "file = File(project, \"new_file.py\")\n",
    "nested_file = File(project, \"path/to/new_file.py\")\n",
    "print(file.exists())\n",
    "print(nested_file.exists())\n",
    "# error if already exists\n",
    "if not file.exists():\n",
    "    file.create()\n",
    "# error if parent or nested folder doesn't exist: must combine with Python's Path\n",
    "if not nested_file.parent.exists():\n",
    "    Path(nested_file.parent.path).mkdir(parents=True, exist_ok=True)\n",
    "    \n",
    "nested_file.create()\n",
    "print(nested_file.parent.exists())\n",
    "\n",
    "print(file.exists())\n",
    "print(nested_file.exists())"
   ]
  },
  {
   "cell_type": "code",
   "execution_count": null,
   "id": "029756c4-c7eb-4517-8837-41b9fb623fcd",
   "metadata": {},
   "outputs": [],
   "source": [
    "# note: check if file not exist"
   ]
  },
  {
   "cell_type": "code",
   "execution_count": 110,
   "id": "4c706d59-f182-4018-bb05-b330f1e626e7",
   "metadata": {},
   "outputs": [],
   "source": [
    "finder = Finder(project, \"square\")\n",
    "src_res = project.get_resource(\"file_with_funcs.py\")\n",
    "dest_res = project.get_resource(\"new_file.py\")"
   ]
  },
  {
   "cell_type": "markdown",
   "id": "a0c8563f-1b5d-4d55-9715-9edb69fe5264",
   "metadata": {},
   "source": [
    "### Examples\n",
    "https://github.com/python-rope/rope/issues/231\n",
    "\n",
    "#### Changes\n",
    "https://github.com/python-rope/rope/blob/8eb79a22009b272dfd5a3a90d031c9c2c52311fe/rope/base/change.py\n",
    "\n",
    "#### PyModule\n",
    "https://github.com/python-rope/rope/blob/ede9464b5c887e9314f3c375e7fb88a1b04f9d77/rope/base/pyobjectsdef.py\n",
    "\n",
    "* can infer if the code has errors\n",
    "\n",
    "#### PyFunction\n",
    "https://github.com/python-rope/rope/blob/d6f809e41d26a9edfb60a74906964078a1c20e7d/rope/base/pyobjects.py\n",
    "\n",
    "#### PyName\n",
    "https://github.com/python-rope/rope/blob/221dec95844f00c37150adafcd51a5f0f371399f/rope/base/pynames.py"
   ]
  },
  {
   "cell_type": "markdown",
   "id": "1f40dca1-6870-41a0-867b-1f70dd94e202",
   "metadata": {},
   "source": [
    "### Finding Occurences with Rope"
   ]
  },
  {
   "cell_type": "code",
   "execution_count": 78,
   "id": "10e41794-a454-42f0-b44e-e3bd252aabdb",
   "metadata": {},
   "outputs": [
    {
     "name": "stdout",
     "output_type": "stream",
     "text": [
      "<rope.refactor.occurrences.Occurrence object at 0x11861ddf0>\n"
     ]
    }
   ],
   "source": [
    "for occ in finder.find_occurrences(resource=src_res):\n",
    "    print(occ)"
   ]
  },
  {
   "cell_type": "code",
   "execution_count": 214,
   "id": "1b4fb13a-9b5f-4fd0-9789-0d044d203861",
   "metadata": {},
   "outputs": [
    {
     "data": {
      "text/plain": [
       "(55, 61)"
      ]
     },
     "execution_count": 214,
     "metadata": {},
     "output_type": "execute_result"
    }
   ],
   "source": [
    "occ.get_primary_range()"
   ]
  },
  {
   "cell_type": "code",
   "execution_count": 212,
   "id": "6f1d7f62-2cfd-446e-b980-5d6b1e1634b3",
   "metadata": {},
   "outputs": [
    {
     "data": {
      "text/plain": [
       "55"
      ]
     },
     "execution_count": 212,
     "metadata": {},
     "output_type": "execute_result"
    }
   ],
   "source": [
    "occ.offset"
   ]
  },
  {
   "cell_type": "code",
   "execution_count": 98,
   "id": "fe5b3b14-ff16-4e49-851c-2cf610a48772",
   "metadata": {},
   "outputs": [
    {
     "data": {
      "text/plain": [
       "4"
      ]
     },
     "execution_count": 98,
     "metadata": {},
     "output_type": "execute_result"
    }
   ],
   "source": [
    "occ.lineno"
   ]
  },
  {
   "cell_type": "code",
   "execution_count": 92,
   "id": "6ee462f2-8cc2-4e28-9b2f-d33edea47b9f",
   "metadata": {},
   "outputs": [],
   "source": [
    "from rope.base.pynames import DefinedName"
   ]
  },
  {
   "cell_type": "code",
   "execution_count": 97,
   "id": "495d3618-5194-4d67-be55-7a1f9d0593fc",
   "metadata": {},
   "outputs": [
    {
     "data": {
      "text/plain": [
       "\u001b[0;31mInit signature:\u001b[0m \u001b[0mDefinedName\u001b[0m\u001b[0;34m(\u001b[0m\u001b[0mpyobject\u001b[0m\u001b[0;34m)\u001b[0m\u001b[0;34m\u001b[0m\u001b[0;34m\u001b[0m\u001b[0m\n",
       "\u001b[0;31mDocstring:\u001b[0m      References to `PyObject` inside python programs\n",
       "\u001b[0;31mFile:\u001b[0m           ~/universe-venv/lib/python3.9/site-packages/rope/base/pynames.py\n",
       "\u001b[0;31mType:\u001b[0m           type\n",
       "\u001b[0;31mSubclasses:\u001b[0m     \n"
      ]
     },
     "metadata": {},
     "output_type": "display_data"
    }
   ],
   "source": [
    "?DefinedName"
   ]
  },
  {
   "cell_type": "code",
   "execution_count": 48,
   "id": "7c220557-b40c-43d0-88ad-982952c0db75",
   "metadata": {},
   "outputs": [],
   "source": [
    "# finder = occurrences.create_finder(project, 'file_with_funcs', 'b')\n",
    "# for occurrence in finder.find_occurrences():\n",
    "#     print(occurence)"
   ]
  },
  {
   "cell_type": "markdown",
   "id": "dd2a0849-e8ae-45bd-9bd4-7997671b850f",
   "metadata": {},
   "source": [
    "### Moving Functions"
   ]
  },
  {
   "cell_type": "code",
   "execution_count": null,
   "id": "fe90056e-e632-4991-9fa4-47e6742ba598",
   "metadata": {},
   "outputs": [],
   "source": [
    "# how to find the offset? use occurence\n",
    "# how to create the destination resource\n",
    "    # does it have to exist"
   ]
  },
  {
   "cell_type": "code",
   "execution_count": 101,
   "id": "f4367a30-2976-4617-98bd-60a2c6159fef",
   "metadata": {},
   "outputs": [],
   "source": [
    "from rope.refactor import move"
   ]
  },
  {
   "cell_type": "code",
   "execution_count": 38,
   "id": "dbfd167c-65a0-4ec1-bd66-0991a343ac99",
   "metadata": {},
   "outputs": [],
   "source": [
    "from rope.refactor.move import MoveMethod"
   ]
  },
  {
   "cell_type": "code",
   "execution_count": 102,
   "id": "42c63840-5c91-4a17-a564-6398833fe77d",
   "metadata": {},
   "outputs": [],
   "source": [
    "mover = move.create_move(project, src_res, occ.offset)"
   ]
  },
  {
   "cell_type": "code",
   "execution_count": 112,
   "id": "4c01789a-cf83-45b9-aadd-852881203d01",
   "metadata": {},
   "outputs": [],
   "source": [
    "changes = mover.get_changes(dest_res)\n",
    "project.do(changes)"
   ]
  },
  {
   "cell_type": "code",
   "execution_count": 145,
   "id": "fac6be4e-d6f9-488e-a866-8597652c092c",
   "metadata": {},
   "outputs": [
    {
     "name": "stdout",
     "output_type": "stream",
     "text": [
      "Moving global <square> - today 15:06:24 :\n",
      "\n",
      "\n",
      "--- a/file_with_funcs.py\n",
      "+++ b/file_with_funcs.py\n",
      "@@ -1,5 +1,3 @@\n",
      " def power_func(num, power):\n",
      "     return num**power\n",
      " \n",
      "-def square(num):\n",
      "-    return power_func(num, 2)\n",
      "\n",
      "--- a/new_file.py\n",
      "+++ b/new_file.py\n",
      "@@ -0,0 +1,5 @@\n",
      "+from file_with_funcs import power_func\n",
      "+\n",
      "+\n",
      "+def square(num):\n",
      "+    return power_func(num, 2)\n",
      "\n",
      "\n"
     ]
    }
   ],
   "source": [
    "print(changes.get_description())"
   ]
  },
  {
   "cell_type": "code",
   "execution_count": 109,
   "id": "4fa7a232-dcdb-4574-bd9e-f5d51c2e7ce9",
   "metadata": {},
   "outputs": [
    {
     "data": {
      "text/plain": [
       "<rope.base.change.ChangeContents at 0x118ab9880>"
      ]
     },
     "execution_count": 109,
     "metadata": {},
     "output_type": "execute_result"
    }
   ],
   "source": [
    "changes.changes[0]"
   ]
  },
  {
   "cell_type": "code",
   "execution_count": 39,
   "id": "62dc4e9c-16ea-4309-b400-80c7940897e2",
   "metadata": {},
   "outputs": [
    {
     "ename": "TypeError",
     "evalue": "__init__() missing 1 required positional argument: 'offset'",
     "output_type": "error",
     "traceback": [
      "\u001b[0;31m---------------------------------------------------------------------------\u001b[0m",
      "\u001b[0;31mTypeError\u001b[0m                                 Traceback (most recent call last)",
      "\u001b[0;32m<ipython-input-39-4383a2aa8d51>\u001b[0m in \u001b[0;36m<module>\u001b[0;34m\u001b[0m\n\u001b[0;32m----> 1\u001b[0;31m \u001b[0mmover\u001b[0m \u001b[0;34m=\u001b[0m \u001b[0mMoveMethod\u001b[0m\u001b[0;34m(\u001b[0m\u001b[0mproject\u001b[0m\u001b[0;34m,\u001b[0m \u001b[0mmod\u001b[0m\u001b[0;34m)\u001b[0m\u001b[0;34m\u001b[0m\u001b[0;34m\u001b[0m\u001b[0m\n\u001b[0m\u001b[1;32m      2\u001b[0m \u001b[0;31m# project.do(mover.get_changes(destination))\u001b[0m\u001b[0;34m\u001b[0m\u001b[0;34m\u001b[0m\u001b[0m\n",
      "\u001b[0;31mTypeError\u001b[0m: __init__() missing 1 required positional argument: 'offset'"
     ]
    }
   ],
   "source": [
    "mover = MoveMethod(project, mod)\n",
    "# project.do(mover.get_changes(destination))"
   ]
  },
  {
   "cell_type": "code",
   "execution_count": null,
   "id": "416386f8-0386-454c-a1ae-f34e79ab5382",
   "metadata": {},
   "outputs": [],
   "source": [
    "get_definition_location"
   ]
  },
  {
   "cell_type": "code",
   "execution_count": 114,
   "id": "687df905-6263-4767-9a52-50fc11567151",
   "metadata": {},
   "outputs": [],
   "source": [
    "py_mod = libutils.get_string_module(project, \"\"\"def power_func(num, power):\n",
    "    return num**power\n",
    "\n",
    "def square(num):\n",
    "    return power_func(num, 2)\"\"\")"
   ]
  },
  {
   "cell_type": "code",
   "execution_count": 127,
   "id": "e13afd79-28ea-455a-961e-1b53d62c12a8",
   "metadata": {},
   "outputs": [
    {
     "data": {
      "text/plain": [
       "<rope.base.pyobjects.PyObject at 0x10e6c3130>"
      ]
     },
     "execution_count": 127,
     "metadata": {},
     "output_type": "execute_result"
    }
   ],
   "source": [
    "py_mod.get_type()"
   ]
  },
  {
   "cell_type": "code",
   "execution_count": 128,
   "id": "8c40fcf8-66d9-43a8-a94a-918f1166bb25",
   "metadata": {},
   "outputs": [
    {
     "data": {
      "text/plain": [
       "<rope.base.pyscopes.GlobalScope at 0x1188930a0>"
      ]
     },
     "execution_count": 128,
     "metadata": {},
     "output_type": "execute_result"
    }
   ],
   "source": [
    "py_mod.get_scope()"
   ]
  },
  {
   "cell_type": "code",
   "execution_count": 117,
   "id": "1e5014e9-25ec-400d-920a-3c655e352ba0",
   "metadata": {},
   "outputs": [
    {
     "data": {
      "text/plain": [
       "{'power_func': <rope.base.pynames.DefinedName at 0x118d5b670>,\n",
       " 'square': <rope.base.pynames.DefinedName at 0x117d07b50>}"
      ]
     },
     "execution_count": 117,
     "metadata": {},
     "output_type": "execute_result"
    }
   ],
   "source": [
    "py_mod.get_attributes()"
   ]
  },
  {
   "cell_type": "code",
   "execution_count": 133,
   "id": "16612699-ef33-40e7-b5b2-258d953a4ba1",
   "metadata": {},
   "outputs": [],
   "source": [
    "ast_mod = py_mod.get_ast()"
   ]
  },
  {
   "cell_type": "code",
   "execution_count": 143,
   "id": "6a2d2a3b-d5e4-491b-8db8-8545e82b41b4",
   "metadata": {},
   "outputs": [
    {
     "data": {
      "text/plain": [
       "[<ast.FunctionDef at 0x118d30880>, <ast.FunctionDef at 0x118d30400>]"
      ]
     },
     "execution_count": 143,
     "metadata": {},
     "output_type": "execute_result"
    }
   ],
   "source": [
    "ast_mod.body"
   ]
  },
  {
   "cell_type": "code",
   "execution_count": 130,
   "id": "80553928-e2ef-4f84-abaa-1663c5aaa6eb",
   "metadata": {},
   "outputs": [
    {
     "data": {
      "text/plain": [
       "<ast.Module at 0x118d031c0>"
      ]
     },
     "execution_count": 130,
     "metadata": {},
     "output_type": "execute_result"
    }
   ],
   "source": [
    "py_mod.get_ast()"
   ]
  },
  {
   "cell_type": "code",
   "execution_count": 124,
   "id": "f68fb3e0-d528-41a2-87f5-6080b10fc068",
   "metadata": {},
   "outputs": [],
   "source": [
    "# err_mod = libutils.get_string_module(project, \"\"\"abc\n",
    "# def\"\"\")\n",
    "# err_mod.has_errors"
   ]
  },
  {
   "cell_type": "markdown",
   "id": "d1d80db5-0ad4-42fa-9967-92172bab138b",
   "metadata": {},
   "source": [
    "### Extract Functions from Code Block\n",
    "\n",
    "#### Extract\n",
    "https://github.com/python-rope/rope/blob/master/rope/refactor/extract.py\n",
    "https://github.com/python-rope/rope/blob/3c8d74dccf97a0c07c4ecd2de42737e37a6e2515/ropetest/refactor/extracttest.py"
   ]
  },
  {
   "cell_type": "code",
   "execution_count": 180,
   "id": "5949a6dd-fc40-4ad7-bf41-6b8a42dd5f9e",
   "metadata": {},
   "outputs": [],
   "source": [
    "from rope.refactor.extract import ExtractVariable, ExtractMethod\n",
    "from rope.refactor import extract"
   ]
  },
  {
   "cell_type": "code",
   "execution_count": 150,
   "id": "f22c5e95-ceab-4d95-a40b-98252c69f4ba",
   "metadata": {},
   "outputs": [],
   "source": [
    "def convert_line_range_to_offset(code, start, end):\n",
    "    lines = rope.base.codeanalyze.SourceLinesAdapter(code)\n",
    "    return lines.get_line_start(start), lines.get_line_end(end)"
   ]
  },
  {
   "cell_type": "code",
   "execution_count": 151,
   "id": "fd9568f9-e9d9-4cd5-ae3e-926896967b8e",
   "metadata": {},
   "outputs": [],
   "source": [
    "extract_src = project.get_resource(\"extract_funcs.py\")"
   ]
  },
  {
   "cell_type": "code",
   "execution_count": 154,
   "id": "785e710d-3ad5-43f5-97af-10fa12bb8729",
   "metadata": {},
   "outputs": [],
   "source": [
    "mod = libutils.get_string_module(project, extract_src.read())"
   ]
  },
  {
   "cell_type": "code",
   "execution_count": 172,
   "id": "448a56f2-c4ee-4ee2-9277-7c6079f5a2bc",
   "metadata": {},
   "outputs": [
    {
     "data": {
      "text/plain": [
       "0"
      ]
     },
     "execution_count": 172,
     "metadata": {},
     "output_type": "execute_result"
    }
   ],
   "source": [
    "mod.lines.get_line_start(1)"
   ]
  },
  {
   "cell_type": "code",
   "execution_count": 173,
   "id": "a648f5ca-1c1e-4003-983d-f1d9e45b0d70",
   "metadata": {},
   "outputs": [
    {
     "data": {
      "text/plain": [
       "82"
      ]
     },
     "execution_count": 173,
     "metadata": {},
     "output_type": "execute_result"
    }
   ],
   "source": [
    "mod.lines.get_line_end(mod.lines.length())"
   ]
  },
  {
   "cell_type": "code",
   "execution_count": 166,
   "id": "9c971c7b-db43-472d-b695-f9269fc36635",
   "metadata": {},
   "outputs": [
    {
     "data": {
      "text/plain": [
       "5"
      ]
     },
     "execution_count": 166,
     "metadata": {},
     "output_type": "execute_result"
    }
   ],
   "source": [
    "mod.lines.length()"
   ]
  },
  {
   "cell_type": "code",
   "execution_count": 181,
   "id": "149662ad-8cf1-423b-b365-e6f17fe139ee",
   "metadata": {},
   "outputs": [],
   "source": [
    "start = mod.lines.get_line_start(1)\n",
    "end = mod.lines.get_line_end(mod.lines.length())"
   ]
  },
  {
   "cell_type": "code",
   "execution_count": 182,
   "id": "e62237fb-907c-4540-90e3-f5881052b32d",
   "metadata": {},
   "outputs": [],
   "source": [
    "extractor = extract.ExtractMethod(project, extract_src, start, end)"
   ]
  },
  {
   "cell_type": "code",
   "execution_count": 183,
   "id": "075d5512-15f0-4cb6-bb34-af2fcbb65850",
   "metadata": {},
   "outputs": [],
   "source": [
    "project.do(extractor.get_changes(\"repeat_string\"))"
   ]
  },
  {
   "cell_type": "code",
   "execution_count": 179,
   "id": "89f2b485-2a06-4fc6-a3d2-d8397611d744",
   "metadata": {},
   "outputs": [],
   "source": [
    "# extractor = extract.ExtractMethod(self.project, testmod, start, end)\n",
    "# self.project.do(extractor.get_changes(extracted, **kwds))\n",
    "# return testmod.read()"
   ]
  },
  {
   "cell_type": "code",
   "execution_count": 174,
   "id": "38603a23-3d38-42c0-81a5-87783eebb005",
   "metadata": {},
   "outputs": [],
   "source": [
    "from rope.contrib import generate"
   ]
  },
  {
   "cell_type": "code",
   "execution_count": 178,
   "id": "6a223f7d-caab-4faa-831c-fcb547795a14",
   "metadata": {},
   "outputs": [],
   "source": [
    "# create a file\n",
    "# generate.create_module(project, \"create_mod\")"
   ]
  },
  {
   "cell_type": "markdown",
   "id": "b8513bbf-3192-4d5b-a4e4-79a045e57ba0",
   "metadata": {},
   "source": [
    "### Renaming\n",
    "\n",
    "https://github.com/python-rope/rope/blob/master/rope/refactor/rename.py"
   ]
  },
  {
   "cell_type": "code",
   "execution_count": 184,
   "id": "455c1c4d-b54c-49c2-8b63-ec6371583b5b",
   "metadata": {},
   "outputs": [],
   "source": [
    "from rope.refactor.rename import Rename"
   ]
  },
  {
   "cell_type": "code",
   "execution_count": 209,
   "id": "e32a2f95-ba67-4845-98f3-6eefca498634",
   "metadata": {},
   "outputs": [],
   "source": [
    "rename_mod = project.get_resource(\"rename_def.py\")"
   ]
  },
  {
   "cell_type": "code",
   "execution_count": 210,
   "id": "fe91111b-6de2-4ad6-a835-0d7f52487442",
   "metadata": {},
   "outputs": [],
   "source": [
    "# must know what's the function that is going to be renamed\n",
    "finder = Finder(project, \"abc\")"
   ]
  },
  {
   "cell_type": "code",
   "execution_count": 211,
   "id": "43d9077d-d59b-4d97-9481-ec552cd7d4e5",
   "metadata": {},
   "outputs": [
    {
     "ename": "ModuleSyntaxError",
     "evalue": "Syntax error in file <rename_def.py> line <1>: invalid syntax",
     "output_type": "error",
     "traceback": [
      "\u001b[0;31m---------------------------------------------------------------------------\u001b[0m",
      "\u001b[0;31mSyntaxError\u001b[0m                               Traceback (most recent call last)",
      "\u001b[0;32m~/universe-venv/lib/python3.9/site-packages/rope/base/pyobjectsdef.py\u001b[0m in \u001b[0;36m_init_source\u001b[0;34m(self, pycore, source_code, resource)\u001b[0m\n\u001b[1;32m    207\u001b[0m                     \u001b[0msource_bytes\u001b[0m \u001b[0;34m=\u001b[0m \u001b[0msource_code\u001b[0m\u001b[0;34m\u001b[0m\u001b[0;34m\u001b[0m\u001b[0m\n\u001b[0;32m--> 208\u001b[0;31m             \u001b[0mast_node\u001b[0m \u001b[0;34m=\u001b[0m \u001b[0mast\u001b[0m\u001b[0;34m.\u001b[0m\u001b[0mparse\u001b[0m\u001b[0;34m(\u001b[0m\u001b[0msource_bytes\u001b[0m\u001b[0;34m,\u001b[0m \u001b[0mfilename\u001b[0m\u001b[0;34m=\u001b[0m\u001b[0mfilename\u001b[0m\u001b[0;34m)\u001b[0m\u001b[0;34m\u001b[0m\u001b[0;34m\u001b[0m\u001b[0m\n\u001b[0m\u001b[1;32m    209\u001b[0m         \u001b[0;32mexcept\u001b[0m \u001b[0mSyntaxError\u001b[0m \u001b[0;32mas\u001b[0m \u001b[0me\u001b[0m\u001b[0;34m:\u001b[0m\u001b[0;34m\u001b[0m\u001b[0;34m\u001b[0m\u001b[0m\n",
      "\u001b[0;32m~/universe-venv/lib/python3.9/site-packages/rope/base/ast.py\u001b[0m in \u001b[0;36mparse\u001b[0;34m(source, filename)\u001b[0m\n\u001b[1;32m     21\u001b[0m     \u001b[0;32mtry\u001b[0m\u001b[0;34m:\u001b[0m\u001b[0;34m\u001b[0m\u001b[0;34m\u001b[0m\u001b[0m\n\u001b[0;32m---> 22\u001b[0;31m         \u001b[0;32mreturn\u001b[0m \u001b[0mast\u001b[0m\u001b[0;34m.\u001b[0m\u001b[0mparse\u001b[0m\u001b[0;34m(\u001b[0m\u001b[0msource\u001b[0m\u001b[0;34m,\u001b[0m \u001b[0mfilename\u001b[0m\u001b[0;34m=\u001b[0m\u001b[0;34m\"<unknown>\"\u001b[0m\u001b[0;34m)\u001b[0m\u001b[0;34m\u001b[0m\u001b[0;34m\u001b[0m\u001b[0m\n\u001b[0m\u001b[1;32m     23\u001b[0m     \u001b[0;32mexcept\u001b[0m \u001b[0;34m(\u001b[0m\u001b[0mTypeError\u001b[0m\u001b[0;34m,\u001b[0m \u001b[0mValueError\u001b[0m\u001b[0;34m)\u001b[0m \u001b[0;32mas\u001b[0m \u001b[0me\u001b[0m\u001b[0;34m:\u001b[0m\u001b[0;34m\u001b[0m\u001b[0;34m\u001b[0m\u001b[0m\n",
      "\u001b[0;32m/usr/local/Cellar/python@3.9/3.9.10/Frameworks/Python.framework/Versions/3.9/lib/python3.9/ast.py\u001b[0m in \u001b[0;36mparse\u001b[0;34m(source, filename, mode, type_comments, feature_version)\u001b[0m\n\u001b[1;32m     49\u001b[0m     \u001b[0;31m# Else it should be an int giving the minor version for 3.x.\u001b[0m\u001b[0;34m\u001b[0m\u001b[0;34m\u001b[0m\u001b[0m\n\u001b[0;32m---> 50\u001b[0;31m     return compile(source, filename, mode, flags,\n\u001b[0m\u001b[1;32m     51\u001b[0m                    _feature_version=feature_version)\n",
      "\u001b[0;31mSyntaxError\u001b[0m: invalid syntax (<unknown>, line 1)",
      "\nDuring handling of the above exception, another exception occurred:\n",
      "\u001b[0;31mModuleSyntaxError\u001b[0m                         Traceback (most recent call last)",
      "\u001b[0;32m<ipython-input-211-c4a767482b0b>\u001b[0m in \u001b[0;36m<module>\u001b[0;34m\u001b[0m\n\u001b[0;32m----> 1\u001b[0;31m \u001b[0moccs\u001b[0m \u001b[0;34m=\u001b[0m \u001b[0mlist\u001b[0m\u001b[0;34m(\u001b[0m\u001b[0mfinder\u001b[0m\u001b[0;34m.\u001b[0m\u001b[0mfind_occurrences\u001b[0m\u001b[0;34m(\u001b[0m\u001b[0mrename_mod\u001b[0m\u001b[0;34m)\u001b[0m\u001b[0;34m)\u001b[0m\u001b[0;34m\u001b[0m\u001b[0;34m\u001b[0m\u001b[0m\n\u001b[0m",
      "\u001b[0;32m~/universe-venv/lib/python3.9/site-packages/rope/refactor/occurrences.py\u001b[0m in \u001b[0;36mfind_occurrences\u001b[0;34m(self, resource, pymodule)\u001b[0m\n\u001b[1;32m     75\u001b[0m             \u001b[0mself\u001b[0m\u001b[0;34m.\u001b[0m\u001b[0mproject\u001b[0m\u001b[0;34m,\u001b[0m \u001b[0mresource\u001b[0m\u001b[0;34m=\u001b[0m\u001b[0mresource\u001b[0m\u001b[0;34m,\u001b[0m \u001b[0mpymodule\u001b[0m\u001b[0;34m=\u001b[0m\u001b[0mpymodule\u001b[0m\u001b[0;34m,\u001b[0m \u001b[0mdocs\u001b[0m\u001b[0;34m=\u001b[0m\u001b[0mself\u001b[0m\u001b[0;34m.\u001b[0m\u001b[0mdocs\u001b[0m\u001b[0;34m\u001b[0m\u001b[0;34m\u001b[0m\u001b[0m\n\u001b[1;32m     76\u001b[0m         )\n\u001b[0;32m---> 77\u001b[0;31m         \u001b[0;32mfor\u001b[0m \u001b[0moffset\u001b[0m \u001b[0;32min\u001b[0m \u001b[0mself\u001b[0m\u001b[0;34m.\u001b[0m\u001b[0m_textual_finder\u001b[0m\u001b[0;34m.\u001b[0m\u001b[0mfind_offsets\u001b[0m\u001b[0;34m(\u001b[0m\u001b[0mtools\u001b[0m\u001b[0;34m.\u001b[0m\u001b[0msource_code\u001b[0m\u001b[0;34m)\u001b[0m\u001b[0;34m:\u001b[0m\u001b[0;34m\u001b[0m\u001b[0;34m\u001b[0m\u001b[0m\n\u001b[0m\u001b[1;32m     78\u001b[0m             \u001b[0moccurrence\u001b[0m \u001b[0;34m=\u001b[0m \u001b[0mOccurrence\u001b[0m\u001b[0;34m(\u001b[0m\u001b[0mtools\u001b[0m\u001b[0;34m,\u001b[0m \u001b[0moffset\u001b[0m\u001b[0;34m)\u001b[0m\u001b[0;34m\u001b[0m\u001b[0;34m\u001b[0m\u001b[0m\n\u001b[1;32m     79\u001b[0m             \u001b[0;32mfor\u001b[0m \u001b[0mfilter\u001b[0m \u001b[0;32min\u001b[0m \u001b[0mself\u001b[0m\u001b[0;34m.\u001b[0m\u001b[0mfilters\u001b[0m\u001b[0;34m:\u001b[0m\u001b[0;34m\u001b[0m\u001b[0;34m\u001b[0m\u001b[0m\n",
      "\u001b[0;32m~/universe-venv/lib/python3.9/site-packages/rope/base/utils/__init__.py\u001b[0m in \u001b[0;36m_wrapper\u001b[0;34m(self, *args, **kwds)\u001b[0m\n\u001b[1;32m     10\u001b[0m     \u001b[0;32mdef\u001b[0m \u001b[0m_wrapper\u001b[0m\u001b[0;34m(\u001b[0m\u001b[0mself\u001b[0m\u001b[0;34m,\u001b[0m \u001b[0;34m*\u001b[0m\u001b[0margs\u001b[0m\u001b[0;34m,\u001b[0m \u001b[0;34m**\u001b[0m\u001b[0mkwds\u001b[0m\u001b[0;34m)\u001b[0m\u001b[0;34m:\u001b[0m\u001b[0;34m\u001b[0m\u001b[0;34m\u001b[0m\u001b[0m\n\u001b[1;32m     11\u001b[0m         \u001b[0;32mif\u001b[0m \u001b[0;32mnot\u001b[0m \u001b[0mhasattr\u001b[0m\u001b[0;34m(\u001b[0m\u001b[0mself\u001b[0m\u001b[0;34m,\u001b[0m \u001b[0mname\u001b[0m\u001b[0;34m)\u001b[0m\u001b[0;34m:\u001b[0m\u001b[0;34m\u001b[0m\u001b[0;34m\u001b[0m\u001b[0m\n\u001b[0;32m---> 12\u001b[0;31m             \u001b[0msetattr\u001b[0m\u001b[0;34m(\u001b[0m\u001b[0mself\u001b[0m\u001b[0;34m,\u001b[0m \u001b[0mname\u001b[0m\u001b[0;34m,\u001b[0m \u001b[0mfunc\u001b[0m\u001b[0;34m(\u001b[0m\u001b[0mself\u001b[0m\u001b[0;34m,\u001b[0m \u001b[0;34m*\u001b[0m\u001b[0margs\u001b[0m\u001b[0;34m,\u001b[0m \u001b[0;34m**\u001b[0m\u001b[0mkwds\u001b[0m\u001b[0;34m)\u001b[0m\u001b[0;34m)\u001b[0m\u001b[0;34m\u001b[0m\u001b[0;34m\u001b[0m\u001b[0m\n\u001b[0m\u001b[1;32m     13\u001b[0m         \u001b[0;32mreturn\u001b[0m \u001b[0mgetattr\u001b[0m\u001b[0;34m(\u001b[0m\u001b[0mself\u001b[0m\u001b[0;34m,\u001b[0m \u001b[0mname\u001b[0m\u001b[0;34m)\u001b[0m\u001b[0;34m\u001b[0m\u001b[0;34m\u001b[0m\u001b[0m\n\u001b[1;32m     14\u001b[0m \u001b[0;34m\u001b[0m\u001b[0m\n",
      "\u001b[0;32m~/universe-venv/lib/python3.9/site-packages/rope/refactor/occurrences.py\u001b[0m in \u001b[0;36msource_code\u001b[0;34m(self)\u001b[0m\n\u001b[1;32m    402\u001b[0m     \u001b[0;34m@\u001b[0m\u001b[0mutils\u001b[0m\u001b[0;34m.\u001b[0m\u001b[0msaveit\u001b[0m\u001b[0;34m\u001b[0m\u001b[0;34m\u001b[0m\u001b[0m\n\u001b[1;32m    403\u001b[0m     \u001b[0;32mdef\u001b[0m \u001b[0msource_code\u001b[0m\u001b[0;34m(\u001b[0m\u001b[0mself\u001b[0m\u001b[0;34m)\u001b[0m\u001b[0;34m:\u001b[0m\u001b[0;34m\u001b[0m\u001b[0;34m\u001b[0m\u001b[0m\n\u001b[0;32m--> 404\u001b[0;31m         \u001b[0;32mreturn\u001b[0m \u001b[0mself\u001b[0m\u001b[0;34m.\u001b[0m\u001b[0mpymodule\u001b[0m\u001b[0;34m.\u001b[0m\u001b[0msource_code\u001b[0m\u001b[0;34m\u001b[0m\u001b[0;34m\u001b[0m\u001b[0m\n\u001b[0m\u001b[1;32m    405\u001b[0m \u001b[0;34m\u001b[0m\u001b[0m\n\u001b[1;32m    406\u001b[0m     \u001b[0;34m@\u001b[0m\u001b[0mproperty\u001b[0m\u001b[0;34m\u001b[0m\u001b[0;34m\u001b[0m\u001b[0m\n",
      "\u001b[0;32m~/universe-venv/lib/python3.9/site-packages/rope/base/utils/__init__.py\u001b[0m in \u001b[0;36m_wrapper\u001b[0;34m(self, *args, **kwds)\u001b[0m\n\u001b[1;32m     10\u001b[0m     \u001b[0;32mdef\u001b[0m \u001b[0m_wrapper\u001b[0m\u001b[0;34m(\u001b[0m\u001b[0mself\u001b[0m\u001b[0;34m,\u001b[0m \u001b[0;34m*\u001b[0m\u001b[0margs\u001b[0m\u001b[0;34m,\u001b[0m \u001b[0;34m**\u001b[0m\u001b[0mkwds\u001b[0m\u001b[0;34m)\u001b[0m\u001b[0;34m:\u001b[0m\u001b[0;34m\u001b[0m\u001b[0;34m\u001b[0m\u001b[0m\n\u001b[1;32m     11\u001b[0m         \u001b[0;32mif\u001b[0m \u001b[0;32mnot\u001b[0m \u001b[0mhasattr\u001b[0m\u001b[0;34m(\u001b[0m\u001b[0mself\u001b[0m\u001b[0;34m,\u001b[0m \u001b[0mname\u001b[0m\u001b[0;34m)\u001b[0m\u001b[0;34m:\u001b[0m\u001b[0;34m\u001b[0m\u001b[0;34m\u001b[0m\u001b[0m\n\u001b[0;32m---> 12\u001b[0;31m             \u001b[0msetattr\u001b[0m\u001b[0;34m(\u001b[0m\u001b[0mself\u001b[0m\u001b[0;34m,\u001b[0m \u001b[0mname\u001b[0m\u001b[0;34m,\u001b[0m \u001b[0mfunc\u001b[0m\u001b[0;34m(\u001b[0m\u001b[0mself\u001b[0m\u001b[0;34m,\u001b[0m \u001b[0;34m*\u001b[0m\u001b[0margs\u001b[0m\u001b[0;34m,\u001b[0m \u001b[0;34m**\u001b[0m\u001b[0mkwds\u001b[0m\u001b[0;34m)\u001b[0m\u001b[0;34m)\u001b[0m\u001b[0;34m\u001b[0m\u001b[0;34m\u001b[0m\u001b[0m\n\u001b[0m\u001b[1;32m     13\u001b[0m         \u001b[0;32mreturn\u001b[0m \u001b[0mgetattr\u001b[0m\u001b[0;34m(\u001b[0m\u001b[0mself\u001b[0m\u001b[0;34m,\u001b[0m \u001b[0mname\u001b[0m\u001b[0;34m)\u001b[0m\u001b[0;34m\u001b[0m\u001b[0;34m\u001b[0m\u001b[0m\n\u001b[1;32m     14\u001b[0m \u001b[0;34m\u001b[0m\u001b[0m\n",
      "\u001b[0;32m~/universe-venv/lib/python3.9/site-packages/rope/refactor/occurrences.py\u001b[0m in \u001b[0;36mpymodule\u001b[0;34m(self)\u001b[0m\n\u001b[1;32m    422\u001b[0m         \u001b[0;32mif\u001b[0m \u001b[0mself\u001b[0m\u001b[0;34m.\u001b[0m\u001b[0m__pymodule\u001b[0m \u001b[0;32mis\u001b[0m \u001b[0;32mnot\u001b[0m \u001b[0;32mNone\u001b[0m\u001b[0;34m:\u001b[0m\u001b[0;34m\u001b[0m\u001b[0;34m\u001b[0m\u001b[0m\n\u001b[1;32m    423\u001b[0m             \u001b[0;32mreturn\u001b[0m \u001b[0mself\u001b[0m\u001b[0;34m.\u001b[0m\u001b[0m__pymodule\u001b[0m\u001b[0;34m\u001b[0m\u001b[0;34m\u001b[0m\u001b[0m\n\u001b[0;32m--> 424\u001b[0;31m         \u001b[0;32mreturn\u001b[0m \u001b[0mself\u001b[0m\u001b[0;34m.\u001b[0m\u001b[0mproject\u001b[0m\u001b[0;34m.\u001b[0m\u001b[0mget_pymodule\u001b[0m\u001b[0;34m(\u001b[0m\u001b[0mself\u001b[0m\u001b[0;34m.\u001b[0m\u001b[0mresource\u001b[0m\u001b[0;34m)\u001b[0m\u001b[0;34m\u001b[0m\u001b[0;34m\u001b[0m\u001b[0m\n\u001b[0m",
      "\u001b[0;32m~/universe-venv/lib/python3.9/site-packages/rope/base/project.py\u001b[0m in \u001b[0;36mget_pymodule\u001b[0;34m(self, resource, force_errors)\u001b[0m\n\u001b[1;32m    113\u001b[0m \u001b[0;34m\u001b[0m\u001b[0m\n\u001b[1;32m    114\u001b[0m     \u001b[0;32mdef\u001b[0m \u001b[0mget_pymodule\u001b[0m\u001b[0;34m(\u001b[0m\u001b[0mself\u001b[0m\u001b[0;34m,\u001b[0m \u001b[0mresource\u001b[0m\u001b[0;34m,\u001b[0m \u001b[0mforce_errors\u001b[0m\u001b[0;34m=\u001b[0m\u001b[0;32mFalse\u001b[0m\u001b[0;34m)\u001b[0m\u001b[0;34m:\u001b[0m\u001b[0;34m\u001b[0m\u001b[0;34m\u001b[0m\u001b[0m\n\u001b[0;32m--> 115\u001b[0;31m         \u001b[0;32mreturn\u001b[0m \u001b[0mself\u001b[0m\u001b[0;34m.\u001b[0m\u001b[0mpycore\u001b[0m\u001b[0;34m.\u001b[0m\u001b[0mresource_to_pyobject\u001b[0m\u001b[0;34m(\u001b[0m\u001b[0mresource\u001b[0m\u001b[0;34m,\u001b[0m \u001b[0mforce_errors\u001b[0m\u001b[0;34m)\u001b[0m\u001b[0;34m\u001b[0m\u001b[0;34m\u001b[0m\u001b[0m\n\u001b[0m\u001b[1;32m    116\u001b[0m \u001b[0;34m\u001b[0m\u001b[0m\n\u001b[1;32m    117\u001b[0m     \u001b[0;32mdef\u001b[0m \u001b[0mget_pycore\u001b[0m\u001b[0;34m(\u001b[0m\u001b[0mself\u001b[0m\u001b[0;34m)\u001b[0m\u001b[0;34m:\u001b[0m\u001b[0;34m\u001b[0m\u001b[0;34m\u001b[0m\u001b[0m\n",
      "\u001b[0;32m~/universe-venv/lib/python3.9/site-packages/rope/base/pycore.py\u001b[0m in \u001b[0;36mresource_to_pyobject\u001b[0;34m(self, resource, force_errors)\u001b[0m\n\u001b[1;32m    139\u001b[0m \u001b[0;34m\u001b[0m\u001b[0m\n\u001b[1;32m    140\u001b[0m     \u001b[0;32mdef\u001b[0m \u001b[0mresource_to_pyobject\u001b[0m\u001b[0;34m(\u001b[0m\u001b[0mself\u001b[0m\u001b[0;34m,\u001b[0m \u001b[0mresource\u001b[0m\u001b[0;34m,\u001b[0m \u001b[0mforce_errors\u001b[0m\u001b[0;34m=\u001b[0m\u001b[0;32mFalse\u001b[0m\u001b[0;34m)\u001b[0m\u001b[0;34m:\u001b[0m\u001b[0;34m\u001b[0m\u001b[0;34m\u001b[0m\u001b[0m\n\u001b[0;32m--> 141\u001b[0;31m         \u001b[0;32mreturn\u001b[0m \u001b[0mself\u001b[0m\u001b[0;34m.\u001b[0m\u001b[0mmodule_cache\u001b[0m\u001b[0;34m.\u001b[0m\u001b[0mget_pymodule\u001b[0m\u001b[0;34m(\u001b[0m\u001b[0mresource\u001b[0m\u001b[0;34m,\u001b[0m \u001b[0mforce_errors\u001b[0m\u001b[0;34m)\u001b[0m\u001b[0;34m\u001b[0m\u001b[0;34m\u001b[0m\u001b[0m\n\u001b[0m\u001b[1;32m    142\u001b[0m \u001b[0;34m\u001b[0m\u001b[0m\n\u001b[1;32m    143\u001b[0m     \u001b[0;34m@\u001b[0m\u001b[0mutils\u001b[0m\u001b[0;34m.\u001b[0m\u001b[0mdeprecated\u001b[0m\u001b[0;34m(\u001b[0m\u001b[0;34m\"Use `project.get_python_files` instead\"\u001b[0m\u001b[0;34m)\u001b[0m\u001b[0;34m\u001b[0m\u001b[0;34m\u001b[0m\u001b[0m\n",
      "\u001b[0;32m~/universe-venv/lib/python3.9/site-packages/rope/base/pycore.py\u001b[0m in \u001b[0;36mget_pymodule\u001b[0;34m(self, resource, force_errors)\u001b[0m\n\u001b[1;32m    259\u001b[0m             \u001b[0mresult\u001b[0m \u001b[0;34m=\u001b[0m \u001b[0mPyPackage\u001b[0m\u001b[0;34m(\u001b[0m\u001b[0mself\u001b[0m\u001b[0;34m.\u001b[0m\u001b[0mpycore\u001b[0m\u001b[0;34m,\u001b[0m \u001b[0mresource\u001b[0m\u001b[0;34m,\u001b[0m \u001b[0mforce_errors\u001b[0m\u001b[0;34m=\u001b[0m\u001b[0mforce_errors\u001b[0m\u001b[0;34m)\u001b[0m\u001b[0;34m\u001b[0m\u001b[0;34m\u001b[0m\u001b[0m\n\u001b[1;32m    260\u001b[0m         \u001b[0;32melse\u001b[0m\u001b[0;34m:\u001b[0m\u001b[0;34m\u001b[0m\u001b[0;34m\u001b[0m\u001b[0m\n\u001b[0;32m--> 261\u001b[0;31m             \u001b[0mresult\u001b[0m \u001b[0;34m=\u001b[0m \u001b[0mPyModule\u001b[0m\u001b[0;34m(\u001b[0m\u001b[0mself\u001b[0m\u001b[0;34m.\u001b[0m\u001b[0mpycore\u001b[0m\u001b[0;34m,\u001b[0m \u001b[0mresource\u001b[0m\u001b[0;34m=\u001b[0m\u001b[0mresource\u001b[0m\u001b[0;34m,\u001b[0m \u001b[0mforce_errors\u001b[0m\u001b[0;34m=\u001b[0m\u001b[0mforce_errors\u001b[0m\u001b[0;34m)\u001b[0m\u001b[0;34m\u001b[0m\u001b[0;34m\u001b[0m\u001b[0m\n\u001b[0m\u001b[1;32m    262\u001b[0m             \u001b[0;32mif\u001b[0m \u001b[0mresult\u001b[0m\u001b[0;34m.\u001b[0m\u001b[0mhas_errors\u001b[0m\u001b[0;34m:\u001b[0m\u001b[0;34m\u001b[0m\u001b[0;34m\u001b[0m\u001b[0m\n\u001b[1;32m    263\u001b[0m                 \u001b[0;32mreturn\u001b[0m \u001b[0mresult\u001b[0m\u001b[0;34m\u001b[0m\u001b[0;34m\u001b[0m\u001b[0m\n",
      "\u001b[0;32m~/universe-venv/lib/python3.9/site-packages/rope/base/pyobjectsdef.py\u001b[0m in \u001b[0;36m__init__\u001b[0;34m(self, pycore, source, resource, force_errors)\u001b[0m\n\u001b[1;32m    179\u001b[0m         \u001b[0mself\u001b[0m\u001b[0;34m.\u001b[0m\u001b[0mhas_errors\u001b[0m \u001b[0;34m=\u001b[0m \u001b[0;32mFalse\u001b[0m\u001b[0;34m\u001b[0m\u001b[0;34m\u001b[0m\u001b[0m\n\u001b[1;32m    180\u001b[0m         \u001b[0;32mtry\u001b[0m\u001b[0;34m:\u001b[0m\u001b[0;34m\u001b[0m\u001b[0;34m\u001b[0m\u001b[0m\n\u001b[0;32m--> 181\u001b[0;31m             \u001b[0msource\u001b[0m\u001b[0;34m,\u001b[0m \u001b[0mnode\u001b[0m \u001b[0;34m=\u001b[0m \u001b[0mself\u001b[0m\u001b[0;34m.\u001b[0m\u001b[0m_init_source\u001b[0m\u001b[0;34m(\u001b[0m\u001b[0mpycore\u001b[0m\u001b[0;34m,\u001b[0m \u001b[0msource\u001b[0m\u001b[0;34m,\u001b[0m \u001b[0mresource\u001b[0m\u001b[0;34m)\u001b[0m\u001b[0;34m\u001b[0m\u001b[0;34m\u001b[0m\u001b[0m\n\u001b[0m\u001b[1;32m    182\u001b[0m         \u001b[0;32mexcept\u001b[0m \u001b[0mexceptions\u001b[0m\u001b[0;34m.\u001b[0m\u001b[0mModuleSyntaxError\u001b[0m\u001b[0;34m:\u001b[0m\u001b[0;34m\u001b[0m\u001b[0;34m\u001b[0m\u001b[0m\n\u001b[1;32m    183\u001b[0m             \u001b[0mself\u001b[0m\u001b[0;34m.\u001b[0m\u001b[0mhas_errors\u001b[0m \u001b[0;34m=\u001b[0m \u001b[0;32mTrue\u001b[0m\u001b[0;34m\u001b[0m\u001b[0;34m\u001b[0m\u001b[0m\n",
      "\u001b[0;32m~/universe-venv/lib/python3.9/site-packages/rope/base/pyobjectsdef.py\u001b[0m in \u001b[0;36m_init_source\u001b[0;34m(self, pycore, source_code, resource)\u001b[0m\n\u001b[1;32m    208\u001b[0m             \u001b[0mast_node\u001b[0m \u001b[0;34m=\u001b[0m \u001b[0mast\u001b[0m\u001b[0;34m.\u001b[0m\u001b[0mparse\u001b[0m\u001b[0;34m(\u001b[0m\u001b[0msource_bytes\u001b[0m\u001b[0;34m,\u001b[0m \u001b[0mfilename\u001b[0m\u001b[0;34m=\u001b[0m\u001b[0mfilename\u001b[0m\u001b[0;34m)\u001b[0m\u001b[0;34m\u001b[0m\u001b[0;34m\u001b[0m\u001b[0m\n\u001b[1;32m    209\u001b[0m         \u001b[0;32mexcept\u001b[0m \u001b[0mSyntaxError\u001b[0m \u001b[0;32mas\u001b[0m \u001b[0me\u001b[0m\u001b[0;34m:\u001b[0m\u001b[0;34m\u001b[0m\u001b[0;34m\u001b[0m\u001b[0m\n\u001b[0;32m--> 210\u001b[0;31m             \u001b[0;32mraise\u001b[0m \u001b[0mexceptions\u001b[0m\u001b[0;34m.\u001b[0m\u001b[0mModuleSyntaxError\u001b[0m\u001b[0;34m(\u001b[0m\u001b[0mfilename\u001b[0m\u001b[0;34m,\u001b[0m \u001b[0me\u001b[0m\u001b[0;34m.\u001b[0m\u001b[0mlineno\u001b[0m\u001b[0;34m,\u001b[0m \u001b[0me\u001b[0m\u001b[0;34m.\u001b[0m\u001b[0mmsg\u001b[0m\u001b[0;34m)\u001b[0m\u001b[0;34m\u001b[0m\u001b[0;34m\u001b[0m\u001b[0m\n\u001b[0m\u001b[1;32m    211\u001b[0m         \u001b[0;32mexcept\u001b[0m \u001b[0mUnicodeDecodeError\u001b[0m \u001b[0;32mas\u001b[0m \u001b[0me\u001b[0m\u001b[0;34m:\u001b[0m\u001b[0;34m\u001b[0m\u001b[0;34m\u001b[0m\u001b[0m\n\u001b[1;32m    212\u001b[0m             \u001b[0;32mraise\u001b[0m \u001b[0mexceptions\u001b[0m\u001b[0;34m.\u001b[0m\u001b[0mModuleSyntaxError\u001b[0m\u001b[0;34m(\u001b[0m\u001b[0mfilename\u001b[0m\u001b[0;34m,\u001b[0m \u001b[0;36m1\u001b[0m\u001b[0;34m,\u001b[0m \u001b[0;34m\"%s\"\u001b[0m \u001b[0;34m%\u001b[0m \u001b[0;34m(\u001b[0m\u001b[0me\u001b[0m\u001b[0;34m.\u001b[0m\u001b[0mreason\u001b[0m\u001b[0;34m)\u001b[0m\u001b[0;34m)\u001b[0m\u001b[0;34m\u001b[0m\u001b[0;34m\u001b[0m\u001b[0m\n",
      "\u001b[0;31mModuleSyntaxError\u001b[0m: Syntax error in file <rename_def.py> line <1>: invalid syntax"
     ]
    }
   ],
   "source": [
    "occs = list(finder.find_occurrences(rename_mod))"
   ]
  },
  {
   "cell_type": "code",
   "execution_count": 198,
   "id": "e60d86c2-0a53-4d64-b318-bd3289972fd9",
   "metadata": {},
   "outputs": [
    {
     "data": {
      "text/plain": [
       "4"
      ]
     },
     "execution_count": 198,
     "metadata": {},
     "output_type": "execute_result"
    }
   ],
   "source": [
    "occurence = occs[0]\n",
    "occurence.offset"
   ]
  },
  {
   "cell_type": "code",
   "execution_count": null,
   "id": "7e3c9adb-18a5-4da0-b8c9-53d48a3501a9",
   "metadata": {},
   "outputs": [],
   "source": [
    "rename_mod.fin"
   ]
  },
  {
   "cell_type": "code",
   "execution_count": 208,
   "id": "0d8b8baf-5c38-49fd-8109-7c425117ced5",
   "metadata": {},
   "outputs": [],
   "source": [
    "# changes = Rename(project, rename_mod, occurence.offset).get_changes('def')"
   ]
  },
  {
   "cell_type": "code",
   "execution_count": 205,
   "id": "d7a52493-6478-4d47-839e-9fde8a5ef20f",
   "metadata": {},
   "outputs": [
    {
     "name": "stdout",
     "output_type": "stream",
     "text": [
      "Renaming <abc> to <def> - today 15:48:39 :\n",
      "\n",
      "\n",
      "--- a/rename_def.py\n",
      "+++ b/rename_def.py\n",
      "@@ -1,2 +1,2 @@\n",
      "-def abc():\n",
      "+def def():\n",
      "     print(\"hello\")\n",
      "\n"
     ]
    }
   ],
   "source": [
    "print(changes.get_description())"
   ]
  },
  {
   "cell_type": "code",
   "execution_count": 207,
   "id": "fd077b67-aff0-40af-a595-d6322db2242b",
   "metadata": {},
   "outputs": [],
   "source": [
    "project.do(changes)"
   ]
  },
  {
   "cell_type": "code",
   "execution_count": 218,
   "id": "fac8d26f-93dd-4e99-9c67-89135e668941",
   "metadata": {},
   "outputs": [],
   "source": [
    "class Person:\n",
    "    @staticmethod\n",
    "    def call_person(name=\"person\"):\n",
    "        print(f\"hello {name}\")\n",
    "    \n",
    "    def init_name(self, name):\n",
    "        self.call_person(name)"
   ]
  },
  {
   "cell_type": "code",
   "execution_count": 219,
   "id": "b4c6521d-523f-4a0a-845f-b57c4f62c4e2",
   "metadata": {},
   "outputs": [
    {
     "name": "stdout",
     "output_type": "stream",
     "text": [
      "hello hello\n"
     ]
    }
   ],
   "source": [
    "Person().init_name(\"hello\")"
   ]
  },
  {
   "cell_type": "code",
   "execution_count": null,
   "id": "1a6d2b73-f71e-4dad-99e6-21b83f321fad",
   "metadata": {},
   "outputs": [],
   "source": []
  }
 ],
 "metadata": {
  "kernelspec": {
   "display_name": "Python 3",
   "language": "python",
   "name": "python3"
  },
  "language_info": {
   "codemirror_mode": {
    "name": "ipython",
    "version": 3
   },
   "file_extension": ".py",
   "mimetype": "text/x-python",
   "name": "python",
   "nbconvert_exporter": "python",
   "pygments_lexer": "ipython3",
   "version": "3.9.10"
  },
  "widgets": {
   "application/vnd.jupyter.widget-state+json": {
    "state": {},
    "version_major": 2,
    "version_minor": 0
   }
  }
 },
 "nbformat": 4,
 "nbformat_minor": 5
}
