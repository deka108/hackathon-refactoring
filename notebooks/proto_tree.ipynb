{
 "cells": [
  {
   "cell_type": "code",
   "execution_count": 4,
   "id": "af02ab1f-f73d-4d26-a4c7-714ba9309394",
   "metadata": {},
   "outputs": [],
   "source": [
    "import os"
   ]
  },
  {
   "cell_type": "code",
   "execution_count": null,
   "id": "4369a14d-9e94-40ee-8ab5-732335221dc1",
   "metadata": {},
   "outputs": [],
   "source": [
    "rc.find_functions_in_script(\"\"\"\n",
    "def a():\n",
    "    print('a')\n",
    "\n",
    "def b():\n",
    "    print('b')\"\"\")"
   ]
  },
  {
   "cell_type": "code",
   "execution_count": 9,
   "id": "d68abf36-4748-48d4-9a69-01758f4b94f6",
   "metadata": {},
   "outputs": [],
   "source": [
    "def walk_tree(path: str, root_dir: str=\"\"):\n",
    "    filetree = []\n",
    "    for dirname, dirnames, filenames in os.walk(path):\n",
    "        # get the abs path\n",
    "#         rel_dir = dirname\n",
    "        # get the relative path instead\n",
    "        rel_dir = os.path.relpath(dirname, root_dir)\n",
    "        print(rel_dir)\n",
    "        rel_dir = rel_dir.lstrip(\"../\")\n",
    "        print(rel_dir, dirname, root_dir)\n",
    "        \n",
    "        # print path to all subdirectories first.\n",
    "        for subdirname in dirnames:\n",
    "            filetree.append(os.path.join(rel_dir, subdirname))\n",
    "\n",
    "        # print path to all filenames.\n",
    "        for filename in filenames:\n",
    "            filetree.append(os.path.join(rel_dir, filename))\n",
    "    return filetree"
   ]
  },
  {
   "cell_type": "code",
   "execution_count": 10,
   "id": "f9b98602-6805-4460-8afc-20248e2e49c7",
   "metadata": {},
   "outputs": [
    {
     "data": {
      "text/plain": [
       "'test-refactor/mymod4'"
      ]
     },
     "execution_count": 10,
     "metadata": {},
     "output_type": "execute_result"
    }
   ],
   "source": [
    "\"../../test-refactor/mymod4\".lstrip(\"../\")"
   ]
  },
  {
   "cell_type": "code",
   "execution_count": 11,
   "id": "6ffbae12-a627-4c55-8d63-8e21a8f74ed0",
   "metadata": {},
   "outputs": [
    {
     "name": "stdout",
     "output_type": "stream",
     "text": [
      "../../test-refactor/mymod4\n",
      "test-refactor/mymod4 /Users/deka.akbar/Projects/hackathon-auto-refactoring/test-refactor/mymod4/ mymod4\n",
      "../../test-refactor/mymod4/new\n",
      "test-refactor/mymod4/new /Users/deka.akbar/Projects/hackathon-auto-refactoring/test-refactor/mymod4/new mymod4\n",
      "../../test-refactor/mymod4/new/mod\n",
      "test-refactor/mymod4/new/mod /Users/deka.akbar/Projects/hackathon-auto-refactoring/test-refactor/mymod4/new/mod mymod4\n",
      "../../test-refactor/mymod4/new/mod/.ipynb_checkpoints\n",
      "test-refactor/mymod4/new/mod/.ipynb_checkpoints /Users/deka.akbar/Projects/hackathon-auto-refactoring/test-refactor/mymod4/new/mod/.ipynb_checkpoints mymod4\n",
      "../../test-refactor/mymod4/new/mod/newfile\n",
      "test-refactor/mymod4/new/mod/newfile /Users/deka.akbar/Projects/hackathon-auto-refactoring/test-refactor/mymod4/new/mod/newfile mymod4\n"
     ]
    }
   ],
   "source": [
    "tree = walk_tree(\"/Users/deka.akbar/Projects/hackathon-auto-refactoring/test-refactor/mymod4/\", \"mymod4\")"
   ]
  },
  {
   "cell_type": "code",
   "execution_count": 12,
   "id": "423676ed-68f1-46e6-870a-cf7f082bf361",
   "metadata": {},
   "outputs": [
    {
     "data": {
      "text/plain": [
       "['test-refactor/mymod4/new',\n",
       " 'test-refactor/mymod4/__init__.py',\n",
       " 'test-refactor/mymod4/new/mod',\n",
       " 'test-refactor/mymod4/new/__init__.py',\n",
       " 'test-refactor/mymod4/new/mod/.ipynb_checkpoints',\n",
       " 'test-refactor/mymod4/new/mod/newfile',\n",
       " 'test-refactor/mymod4/new/mod/__init__.py',\n",
       " 'test-refactor/mymod4/new/mod/diff.py',\n",
       " 'test-refactor/mymod4/new/mod/new_move.py',\n",
       " 'test-refactor/mymod4/new/mod/.ipynb_checkpoints/new_move-checkpoint.py',\n",
       " 'test-refactor/mymod4/new/mod/.ipynb_checkpoints/diff-checkpoint.py',\n",
       " 'test-refactor/mymod4/new/mod/newfile/__init__.py']"
      ]
     },
     "execution_count": 12,
     "metadata": {},
     "output_type": "execute_result"
    }
   ],
   "source": [
    "tree"
   ]
  },
  {
   "cell_type": "code",
   "execution_count": 52,
   "id": "488c629f-662e-4b5f-ae88-8c6ee61c5e15",
   "metadata": {},
   "outputs": [],
   "source": [
    "tree.sort()"
   ]
  },
  {
   "cell_type": "code",
   "execution_count": 53,
   "id": "5ebb7e21-bcd6-4756-8a7e-669e4aead549",
   "metadata": {},
   "outputs": [
    {
     "data": {
      "text/plain": [
       "['test-refactor/mymod4/__init__.py',\n",
       " 'test-refactor/mymod4/new',\n",
       " 'test-refactor/mymod4/new/__init__.py',\n",
       " 'test-refactor/mymod4/new/mod',\n",
       " 'test-refactor/mymod4/new/mod/.ipynb_checkpoints',\n",
       " 'test-refactor/mymod4/new/mod/.ipynb_checkpoints/diff-checkpoint.py',\n",
       " 'test-refactor/mymod4/new/mod/.ipynb_checkpoints/new_move-checkpoint.py',\n",
       " 'test-refactor/mymod4/new/mod/__init__.py',\n",
       " 'test-refactor/mymod4/new/mod/diff.py',\n",
       " 'test-refactor/mymod4/new/mod/new_move.py',\n",
       " 'test-refactor/mymod4/new/mod/newfile',\n",
       " 'test-refactor/mymod4/new/mod/newfile/__init__.py']"
      ]
     },
     "execution_count": 53,
     "metadata": {},
     "output_type": "execute_result"
    }
   ],
   "source": [
    "tree"
   ]
  },
  {
   "cell_type": "code",
   "execution_count": null,
   "id": "61ac34ca-1e3f-46b2-a2c6-c4de60e94cc8",
   "metadata": {},
   "outputs": [],
   "source": [
    "# create or modified: exist in staging, may or may not exist in repo\n",
    "for path in mod_or_created_set:\n",
    "    staging_path = rc._staging_path.joinpath(path)\n",
    "    # if exist in staging, get it otherwise fallback to repo\n",
    "    ws_path_key = rc.staging_idx.get(str(staging_path), f\"{rc._repo}/{path}\")\n",
    "    print(\"===\")\n",
    "    print(f\"staging_path: {staging_path}, ws_path: {ws_path_key}\")\n",
    "\n",
    "    if staging_path.is_dir():\n",
    "        print(\"is_dir\")\n",
    "    elif self.is_notebook(staging_path):\n",
    "        print(\"is_notebook\")\n",
    "    elif staging_path.is_file():\n",
    "        print(\"is_file\")"
   ]
  },
  {
   "cell_type": "code",
   "execution_count": null,
   "id": "fa7a2d51-7d3d-4684-bc42-1741185ec344",
   "metadata": {},
   "outputs": [],
   "source": [
    "# create or modified: exist in staging, may or may not exist in repo\n",
    "for path in staging_paths:\n",
    "    staging_path = rc._staging_path.joinpath(path)\n",
    "    # if exist in staging, get it otherwise fallback to repo\n",
    "    ws_path_key = rc.staging_idx.get(str(staging_path), f\"{rc._repo}/{path}\")\n",
    "    print(\"===\")\n",
    "    print(f\"staging_path: {staging_path}, ws_path: {ws_path_key}\")\n",
    "\n",
    "    if staging_path.is_dir():\n",
    "        print(\"is_dir\")\n",
    "    elif rc.is_notebook(staging_path):\n",
    "        print(\"is_notebook\")\n",
    "    elif staging_path.is_file():\n",
    "        print(\"is_file\")"
   ]
  }
 ],
 "metadata": {
  "kernelspec": {
   "display_name": "Python 3",
   "language": "python",
   "name": "python3"
  },
  "language_info": {
   "codemirror_mode": {
    "name": "ipython",
    "version": 3
   },
   "file_extension": ".py",
   "mimetype": "text/x-python",
   "name": "python",
   "nbconvert_exporter": "python",
   "pygments_lexer": "ipython3",
   "version": "3.9.10"
  },
  "widgets": {
   "application/vnd.jupyter.widget-state+json": {
    "state": {},
    "version_major": 2,
    "version_minor": 0
   }
  }
 },
 "nbformat": 4,
 "nbformat_minor": 5
}
