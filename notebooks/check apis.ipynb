{
 "cells": [
  {
   "cell_type": "code",
   "execution_count": 15,
   "id": "d8927516-ebdd-4a30-96af-d0cd33fa59bc",
   "metadata": {},
   "outputs": [
    {
     "name": "stdout",
     "output_type": "stream",
     "text": [
      "/Users/deka.akbar/Projects/hackathon-auto-refactoring/notebooks\n"
     ]
    }
   ],
   "source": [
    "!pwd"
   ]
  },
  {
   "cell_type": "code",
   "execution_count": 26,
   "id": "03ae4308-eebb-44ad-9831-137e4ec3c6f6",
   "metadata": {},
   "outputs": [],
   "source": [
    "import sys  \n",
    "sys.path.insert(0, '/Users/deka.akbar/Projects/hackathon-auto-refactoring/')\n"
   ]
  },
  {
   "cell_type": "code",
   "execution_count": 37,
   "id": "01279e37-0884-4533-8246-d220bb854fb5",
   "metadata": {},
   "outputs": [
    {
     "name": "stdout",
     "output_type": "stream",
     "text": [
      "The autoreload extension is already loaded. To reload it, use:\n",
      "  %reload_ext autoreload\n"
     ]
    }
   ],
   "source": [
    "%load_ext autoreload\n",
    "%autoreload 2"
   ]
  },
  {
   "cell_type": "code",
   "execution_count": 45,
   "id": "dad83111-5ba0-4bad-8711-c576c504d40e",
   "metadata": {},
   "outputs": [],
   "source": [
    "%reload_ext autoreload\n",
    "%autoreload 2"
   ]
  },
  {
   "cell_type": "code",
   "execution_count": 46,
   "id": "dfc09c62-70c8-4b16-a947-6392e48fb942",
   "metadata": {},
   "outputs": [],
   "source": [
    "from refactoring.refactor import RefactoringUtils"
   ]
  },
  {
   "cell_type": "code",
   "execution_count": 47,
   "id": "3aa27e6a-d334-432e-8873-24b2234745eb",
   "metadata": {},
   "outputs": [],
   "source": [
    "ru = RefactoringUtils(root=\"/Users/deka.akbar/Projects/hackathon-auto-refactoring/test-refactor\")"
   ]
  },
  {
   "cell_type": "code",
   "execution_count": 48,
   "id": "c3c0f024-7b43-4611-bd09-3c403f8e4fde",
   "metadata": {},
   "outputs": [
    {
     "data": {
      "text/plain": [
       "['power_func']"
      ]
     },
     "execution_count": 48,
     "metadata": {},
     "output_type": "execute_result"
    }
   ],
   "source": [
    "ru.find_functions_on_file(\"file_with_funcs.py\")"
   ]
  },
  {
   "cell_type": "code",
   "execution_count": 49,
   "id": "78175006-6326-42f6-a24c-01c5ac96ade9",
   "metadata": {},
   "outputs": [
    {
     "data": {
      "text/plain": [
       "[]"
      ]
     },
     "execution_count": 49,
     "metadata": {},
     "output_type": "execute_result"
    }
   ],
   "source": [
    "ru.move_functions(\"file_with_funcs.py\", [\"random_func\"], \"mymod4/new/mod/new_move.py\")"
   ]
  },
  {
   "cell_type": "code",
   "execution_count": 53,
   "id": "ae0104f2-a8cf-4dbf-b5ce-89366d51f3c8",
   "metadata": {},
   "outputs": [
    {
     "data": {
      "text/plain": [
       "['file_with_funcs.py', 'mymod4/new/mod/new_move.py']"
      ]
     },
     "execution_count": 53,
     "metadata": {},
     "output_type": "execute_result"
    }
   ],
   "source": [
    "ru.move_functions(\"mymod4/new/mod/new_move.py\", [\"random_func\"], \"file_with_funcs.py\")"
   ]
  },
  {
   "cell_type": "code",
   "execution_count": null,
   "id": "b143256c-c86e-4de3-b75f-f6054b42b73b",
   "metadata": {},
   "outputs": [],
   "source": []
  },
  {
   "cell_type": "code",
   "execution_count": 2,
   "id": "821bd596-e897-4400-b865-31f86e361ca5",
   "metadata": {},
   "outputs": [],
   "source": [
    "class MyClass:\n",
    "    def __init__(self, var):\n",
    "        var = var\n",
    "        \n",
    "    def a(self):\n",
    "        print(f\"{var} + a\")\n",
    "    \n",
    "    def b(self):\n",
    "        print(f\"{var} + b\")"
   ]
  },
  {
   "cell_type": "code",
   "execution_count": null,
   "id": "b8fadd86-e7b1-43ad-82dc-e96bae269133",
   "metadata": {},
   "outputs": [],
   "source": []
  },
  {
   "cell_type": "code",
   "execution_count": null,
   "id": "b027052f-e454-4b8a-add3-b0d4759c7981",
   "metadata": {},
   "outputs": [],
   "source": [
    "RefactoringController()"
   ]
  },
  {
   "cell_type": "code",
   "execution_count": 4,
   "id": "83e0c806-7ee8-40da-a232-47912ef346d0",
   "metadata": {},
   "outputs": [],
   "source": [
    "mc = MyClass(1)"
   ]
  },
  {
   "cell_type": "code",
   "execution_count": 15,
   "id": "7589e97f-ae1b-4350-b359-596453029574",
   "metadata": {},
   "outputs": [],
   "source": [
    "from typing import Callable, Any"
   ]
  },
  {
   "cell_type": "code",
   "execution_count": 16,
   "id": "cce6e86c-9b57-47b2-8424-67a3451d325b",
   "metadata": {},
   "outputs": [],
   "source": [
    "class CallFunc:\n",
    "    def call_func(self, func: Callable[..., Any], *args, **kwargs):\n",
    "        return func(*args, **kwargs)"
   ]
  },
  {
   "cell_type": "code",
   "execution_count": 17,
   "id": "b09d29aa-493b-4256-b698-d407ba1223bb",
   "metadata": {},
   "outputs": [],
   "source": [
    "cf = CallFunc()"
   ]
  },
  {
   "cell_type": "code",
   "execution_count": 18,
   "id": "80fe9227-df75-4cda-8388-cca55f796add",
   "metadata": {},
   "outputs": [],
   "source": [
    "def print_abc(a, b, c=\"c\"):\n",
    "    print(f\"{a}, {b}, {c}\")"
   ]
  },
  {
   "cell_type": "code",
   "execution_count": 19,
   "id": "76764e90-b559-44d7-a3d0-3122315775de",
   "metadata": {},
   "outputs": [
    {
     "name": "stdout",
     "output_type": "stream",
     "text": [
      "a, b, c\n"
     ]
    }
   ],
   "source": [
    "print_abc(\"a\", \"b\")"
   ]
  },
  {
   "cell_type": "code",
   "execution_count": 20,
   "id": "63fd9785-d48b-49aa-9fae-b117a799948a",
   "metadata": {},
   "outputs": [
    {
     "name": "stdout",
     "output_type": "stream",
     "text": [
      "a, e, d\n"
     ]
    }
   ],
   "source": [
    "cf.call_func(print_abc, \"a\", \"e\", c=\"d\")"
   ]
  },
  {
   "cell_type": "code",
   "execution_count": 21,
   "id": "70dbee03-22cb-483f-a663-1b851b231015",
   "metadata": {},
   "outputs": [
    {
     "data": {
      "text/plain": [
       "function"
      ]
     },
     "execution_count": 21,
     "metadata": {},
     "output_type": "execute_result"
    }
   ],
   "source": [
    "type(print_abc)"
   ]
  },
  {
   "cell_type": "code",
   "execution_count": 22,
   "id": "89ed6002-cfe4-4da2-a98d-ef7f9ce44fee",
   "metadata": {},
   "outputs": [
    {
     "ename": "TypeError",
     "evalue": "'str' object is not callable",
     "output_type": "error",
     "traceback": [
      "\u001b[0;31m---------------------------------------------------------------------------\u001b[0m",
      "\u001b[0;31mTypeError\u001b[0m                                 Traceback (most recent call last)",
      "\u001b[0;32m<ipython-input-22-fe2989d2bd38>\u001b[0m in \u001b[0;36m<module>\u001b[0;34m\u001b[0m\n\u001b[0;32m----> 1\u001b[0;31m \u001b[0mcf\u001b[0m\u001b[0;34m.\u001b[0m\u001b[0mcall_func\u001b[0m\u001b[0;34m(\u001b[0m\u001b[0;34m\"d\"\u001b[0m\u001b[0;34m,\u001b[0m \u001b[0;34m\"a\"\u001b[0m\u001b[0;34m,\u001b[0m \u001b[0;34m\"e\"\u001b[0m\u001b[0;34m,\u001b[0m \u001b[0mc\u001b[0m\u001b[0;34m=\u001b[0m\u001b[0;34m\"d\"\u001b[0m\u001b[0;34m)\u001b[0m\u001b[0;34m\u001b[0m\u001b[0;34m\u001b[0m\u001b[0m\n\u001b[0m",
      "\u001b[0;32m<ipython-input-16-fed6254b76db>\u001b[0m in \u001b[0;36mcall_func\u001b[0;34m(self, func, *args, **kwargs)\u001b[0m\n\u001b[1;32m      1\u001b[0m \u001b[0;32mclass\u001b[0m \u001b[0mCallFunc\u001b[0m\u001b[0;34m:\u001b[0m\u001b[0;34m\u001b[0m\u001b[0;34m\u001b[0m\u001b[0m\n\u001b[1;32m      2\u001b[0m     \u001b[0;32mdef\u001b[0m \u001b[0mcall_func\u001b[0m\u001b[0;34m(\u001b[0m\u001b[0mself\u001b[0m\u001b[0;34m,\u001b[0m \u001b[0mfunc\u001b[0m\u001b[0;34m:\u001b[0m \u001b[0mCallable\u001b[0m\u001b[0;34m[\u001b[0m\u001b[0;34m...\u001b[0m\u001b[0;34m,\u001b[0m \u001b[0mAny\u001b[0m\u001b[0;34m]\u001b[0m\u001b[0;34m,\u001b[0m \u001b[0;34m*\u001b[0m\u001b[0margs\u001b[0m\u001b[0;34m,\u001b[0m \u001b[0;34m**\u001b[0m\u001b[0mkwargs\u001b[0m\u001b[0;34m)\u001b[0m\u001b[0;34m:\u001b[0m\u001b[0;34m\u001b[0m\u001b[0;34m\u001b[0m\u001b[0m\n\u001b[0;32m----> 3\u001b[0;31m         \u001b[0;32mreturn\u001b[0m \u001b[0mfunc\u001b[0m\u001b[0;34m(\u001b[0m\u001b[0;34m*\u001b[0m\u001b[0margs\u001b[0m\u001b[0;34m,\u001b[0m \u001b[0;34m**\u001b[0m\u001b[0mkwargs\u001b[0m\u001b[0;34m)\u001b[0m\u001b[0;34m\u001b[0m\u001b[0;34m\u001b[0m\u001b[0m\n\u001b[0m",
      "\u001b[0;31mTypeError\u001b[0m: 'str' object is not callable"
     ]
    }
   ],
   "source": [
    "cf.call_func(\"d\", \"a\", \"e\", c=\"d\")"
   ]
  },
  {
   "cell_type": "code",
   "execution_count": null,
   "id": "f3dbddac-0194-4718-b0c1-870c7128336a",
   "metadata": {},
   "outputs": [],
   "source": []
  }
 ],
 "metadata": {
  "kernelspec": {
   "display_name": "Python 3",
   "language": "python",
   "name": "python3"
  },
  "language_info": {
   "codemirror_mode": {
    "name": "ipython",
    "version": 3
   },
   "file_extension": ".py",
   "mimetype": "text/x-python",
   "name": "python",
   "nbconvert_exporter": "python",
   "pygments_lexer": "ipython3",
   "version": "3.9.10"
  },
  "widgets": {
   "application/vnd.jupyter.widget-state+json": {
    "state": {},
    "version_major": 2,
    "version_minor": 0
   }
  }
 },
 "nbformat": 4,
 "nbformat_minor": 5
}
