{
 "cells": [
  {
   "cell_type": "code",
   "execution_count": 1,
   "id": "1ec495f0-6287-45a6-8d5d-a0bc0ea5a8e5",
   "metadata": {},
   "outputs": [],
   "source": [
    "from rope.base.project import Project"
   ]
  },
  {
   "cell_type": "code",
   "execution_count": 2,
   "id": "949a9681-a6b1-4e41-a43d-925576c7c544",
   "metadata": {},
   "outputs": [],
   "source": [
    "project = Project('../test-refactor/')"
   ]
  },
  {
   "cell_type": "code",
   "execution_count": 3,
   "id": "6f64d0e8-59b0-48cf-8dcd-880ead845f94",
   "metadata": {},
   "outputs": [
    {
     "data": {
      "text/plain": [
       "'/Users/deka.akbar/Projects/hackathon-auto-refactoring/test-refactor/'"
      ]
     },
     "execution_count": 3,
     "metadata": {},
     "output_type": "execute_result"
    }
   ],
   "source": [
    "project.root.real_path"
   ]
  },
  {
   "cell_type": "code",
   "execution_count": 4,
   "id": "0cf130c3-66d4-455b-a26a-a219efd777e8",
   "metadata": {},
   "outputs": [],
   "source": [
    "from rope.contrib.generate import create_module, create_package"
   ]
  },
  {
   "cell_type": "code",
   "execution_count": 5,
   "id": "9a9053c8-930d-49f4-a028-ada50b0bf3bc",
   "metadata": {},
   "outputs": [],
   "source": [
    "from rope.refactor import move"
   ]
  },
  {
   "cell_type": "markdown",
   "id": "5f5df2fb-c157-4acd-be1b-bb2864cfc9c2",
   "metadata": {},
   "source": [
    "## Find the functions"
   ]
  },
  {
   "cell_type": "code",
   "execution_count": 6,
   "id": "e49da235-f17b-4882-8f70-6dbd4752f533",
   "metadata": {},
   "outputs": [],
   "source": [
    "from rope.refactor.occurrences import Finder\n",
    "\n",
    "def find_function(src_res, function_name):\n",
    "    finder = Finder(project, function_name)\n",
    "    for occ in finder.find_occurrences(resource=src_res):\n",
    "        return occ"
   ]
  },
  {
   "cell_type": "code",
   "execution_count": 7,
   "id": "86687069-bd9f-4520-878c-409ab437146a",
   "metadata": {},
   "outputs": [],
   "source": [
    "src_res = project.get_resource(\"eg_nb.py\")\n",
    "dest_res = project.get_resource(\"mymod/file_to_be_moved.py\")"
   ]
  },
  {
   "cell_type": "code",
   "execution_count": 8,
   "id": "4a21fad4-05ac-4976-91ce-ea91331f5af6",
   "metadata": {},
   "outputs": [],
   "source": [
    "occ = find_function(src_res, \"myFuncToRefactor\")"
   ]
  },
  {
   "cell_type": "code",
   "execution_count": 9,
   "id": "196dd8a1-7659-4ea2-bc08-6440413b4257",
   "metadata": {},
   "outputs": [
    {
     "data": {
      "text/plain": [
       "3"
      ]
     },
     "execution_count": 9,
     "metadata": {},
     "output_type": "execute_result"
    }
   ],
   "source": [
    "occ.lineno"
   ]
  },
  {
   "cell_type": "code",
   "execution_count": 10,
   "id": "24102b29-5396-4fa1-8937-2b1600eaa00d",
   "metadata": {},
   "outputs": [
    {
     "data": {
      "text/plain": [
       "53"
      ]
     },
     "execution_count": 10,
     "metadata": {},
     "output_type": "execute_result"
    }
   ],
   "source": [
    "occ.offset"
   ]
  },
  {
   "cell_type": "code",
   "execution_count": 11,
   "id": "f9d560f7-a7c9-4c64-9f2b-48a830d02596",
   "metadata": {},
   "outputs": [
    {
     "data": {
      "text/plain": [
       "53"
      ]
     },
     "execution_count": 11,
     "metadata": {},
     "output_type": "execute_result"
    }
   ],
   "source": [
    "src_res.read().index(\"myFuncToRefactor\")"
   ]
  },
  {
   "cell_type": "code",
   "execution_count": 12,
   "id": "b9d90ef1-575a-4569-94e1-916ff2e141fa",
   "metadata": {},
   "outputs": [],
   "source": [
    "mover = move.create_move(project, src_res, occ.offset)"
   ]
  },
  {
   "cell_type": "code",
   "execution_count": 16,
   "id": "e8594ac5-0a44-4872-83fb-42f2c3ec9160",
   "metadata": {},
   "outputs": [],
   "source": [
    "change_set = mover.get_changes(dest_res)"
   ]
  },
  {
   "cell_type": "code",
   "execution_count": 23,
   "id": "e1f74b35-10b2-4730-aea7-d6b61ec41321",
   "metadata": {},
   "outputs": [
    {
     "data": {
      "text/plain": [
       "[<rope.base.resources.File at 0x10962b6d0>]"
      ]
     },
     "execution_count": 23,
     "metadata": {},
     "output_type": "execute_result"
    }
   ],
   "source": [
    "change_set.changes[0].get_changed_resources()"
   ]
  },
  {
   "cell_type": "code",
   "execution_count": 19,
   "id": "84ac157c-275b-4207-a611-f7bbeb1385c3",
   "metadata": {},
   "outputs": [
    {
     "name": "stdout",
     "output_type": "stream",
     "text": [
      "Moving global <myFuncToRefactor>:\n",
      "\n",
      "\n",
      "--- a/mymod/file_to_be_moved.py\n",
      "+++ b/mymod/file_to_be_moved.py\n",
      "@@ -0,0 +1,4 @@\n",
      "+# Databricks notebook source\n",
      "+# start of the file\n",
      "+def myFuncToRefactor():\n",
      "+    print(\"a\")\n",
      "\n",
      "--- a/eg_nb.py\n",
      "+++ b/eg_nb.py\n",
      "@@ -1,4 +0,0 @@\n",
      "-# Databricks notebook source\n",
      "-# start of the file\n",
      "-def myFuncToRefactor():\n",
      "-    print(\"a\")\n",
      "\n",
      "\n"
     ]
    }
   ],
   "source": [
    "print(change_set.get_description())"
   ]
  },
  {
   "cell_type": "code",
   "execution_count": null,
   "id": "2c4ebc05-e509-4f5e-bf1e-a53d988c9167",
   "metadata": {},
   "outputs": [],
   "source": [
    "# if the source is a notebook and the comment is gone, readd the \"Databricks source file\" at the top\n",
    "# if the dest is not a notebook, remove the \"Databricks source file\" at the top\n",
    "# if the dest is a notebook, check for the \"Databricks source file\" and add it at the top"
   ]
  },
  {
   "cell_type": "code",
   "execution_count": 34,
   "id": "6437c82c-457e-4ead-852d-e93928d45f3c",
   "metadata": {},
   "outputs": [],
   "source": [
    "src_res = project.get_resource(\"file_with_funcs.py\")\n",
    "# check if dest_res exist\n",
    "# if it's a module create the nested modules first\n",
    "dest_res = project.get_resource(\"mymod4/new/mod/new_move.py\")"
   ]
  },
  {
   "cell_type": "code",
   "execution_count": 9,
   "id": "872c1723-035e-433f-afc7-4404eddab001",
   "metadata": {},
   "outputs": [
    {
     "name": "stdout",
     "output_type": "stream",
     "text": [
      "2.44 ms ± 0 ns per loop (mean ± std. dev. of 1 run, 1 loop each)\n"
     ]
    }
   ],
   "source": [
    "%%timeit -n 1 -r 1\n",
    "find_function(src_res, \"doesntexist\")"
   ]
  },
  {
   "cell_type": "code",
   "execution_count": 10,
   "id": "a00f0818-4220-40b4-9427-c0ef4dcb11a8",
   "metadata": {},
   "outputs": [
    {
     "name": "stdout",
     "output_type": "stream",
     "text": [
      "1.26 ms ± 0 ns per loop (mean ± std. dev. of 1 run, 1 loop each)\n"
     ]
    }
   ],
   "source": [
    "%%timeit -n 1 -r 1\n",
    "find_function(src_res, \"random_func\")"
   ]
  },
  {
   "cell_type": "code",
   "execution_count": 11,
   "id": "cab05aef-b83f-4916-a240-5f45a4380a39",
   "metadata": {},
   "outputs": [
    {
     "name": "stdout",
     "output_type": "stream",
     "text": [
      "360 µs ± 0 ns per loop (mean ± std. dev. of 1 run, 1 loop each)\n"
     ]
    }
   ],
   "source": [
    "%%timeit -n 1 -r 1\n",
    "try:\n",
    "    src_res.read().index(\"doesntexist\")\n",
    "except ValueError:\n",
    "    pass"
   ]
  },
  {
   "cell_type": "code",
   "execution_count": 12,
   "id": "df1a3242-587f-4b0f-ba76-7044dc19998a",
   "metadata": {},
   "outputs": [
    {
     "name": "stdout",
     "output_type": "stream",
     "text": [
      "514 µs ± 0 ns per loop (mean ± std. dev. of 1 run, 1 loop each)\n"
     ]
    }
   ],
   "source": [
    "%%timeit -n 1 -r 1\n",
    "src_res.read().index(\"random_func\")"
   ]
  },
  {
   "cell_type": "code",
   "execution_count": 18,
   "id": "efe75ba1-82b6-4d99-ba9b-7a47e9f13c7e",
   "metadata": {},
   "outputs": [],
   "source": [
    "occ = find_function(src_res, \"random_func\")"
   ]
  },
  {
   "cell_type": "code",
   "execution_count": 19,
   "id": "dc06e857-a124-4a88-97ab-bb39755c57e0",
   "metadata": {},
   "outputs": [
    {
     "data": {
      "text/plain": [
       "4"
      ]
     },
     "execution_count": 19,
     "metadata": {},
     "output_type": "execute_result"
    }
   ],
   "source": [
    "occ.offset"
   ]
  },
  {
   "cell_type": "code",
   "execution_count": 23,
   "id": "b6109962-f1a2-48b6-ade3-ba47200c86b5",
   "metadata": {},
   "outputs": [],
   "source": [
    "mover = move.create_move(project, src_res, occ.offset)"
   ]
  },
  {
   "cell_type": "code",
   "execution_count": 24,
   "id": "2a3d88b3-fc11-49d8-a433-f734baf81032",
   "metadata": {},
   "outputs": [
    {
     "data": {
      "text/plain": [
       "'random_func'"
      ]
     },
     "execution_count": 24,
     "metadata": {},
     "output_type": "execute_result"
    }
   ],
   "source": [
    "mover.old_name"
   ]
  },
  {
   "cell_type": "code",
   "execution_count": 35,
   "id": "26ab7b89-afc9-42e6-82d3-5f9783cb45ba",
   "metadata": {},
   "outputs": [],
   "source": [
    "changes = mover.get_changes(dest_res)"
   ]
  },
  {
   "cell_type": "code",
   "execution_count": 36,
   "id": "a56c8cd1-0d10-43ef-a6a2-b0735aaf8105",
   "metadata": {},
   "outputs": [],
   "source": [
    "f1 = list(changes.get_changed_resources())[0]\n",
    "f2 = list(changes.get_changed_resources())[1]"
   ]
  },
  {
   "cell_type": "code",
   "execution_count": 37,
   "id": "cfea0050-2a81-4bad-b0e0-55bdee371283",
   "metadata": {},
   "outputs": [
    {
     "data": {
      "text/plain": [
       "<rope.base.change.ChangeSet at 0x10d0fce80>"
      ]
     },
     "execution_count": 37,
     "metadata": {},
     "output_type": "execute_result"
    }
   ],
   "source": [
    "changes"
   ]
  },
  {
   "cell_type": "code",
   "execution_count": 38,
   "id": "4397d7f0-e1b4-4928-a26c-3f1e5d1b1541",
   "metadata": {},
   "outputs": [
    {
     "data": {
      "text/plain": [
       "[<rope.base.resources.File at 0x10d10e910>,\n",
       " <rope.base.resources.File at 0x10d176340>]"
      ]
     },
     "execution_count": 38,
     "metadata": {},
     "output_type": "execute_result"
    }
   ],
   "source": [
    "changed_files = []\n",
    "for file in changes.get_changed_resources():\n",
    "    changed_files.append(file)\n",
    "changed_files"
   ]
  },
  {
   "cell_type": "code",
   "execution_count": 44,
   "id": "cbaaed5e-4710-46e6-aa4c-6399aa77f113",
   "metadata": {},
   "outputs": [
    {
     "data": {
      "text/plain": [
       "'mymod4/new/mod'"
      ]
     },
     "execution_count": 44,
     "metadata": {},
     "output_type": "execute_result"
    }
   ],
   "source": [
    "changed_files[1].parent.path"
   ]
  },
  {
   "cell_type": "code",
   "execution_count": 39,
   "id": "b9440c6f-4b06-46c6-b11b-d231b8a2b2e2",
   "metadata": {},
   "outputs": [],
   "source": [
    "# relative to the project path"
   ]
  },
  {
   "cell_type": "code",
   "execution_count": 40,
   "id": "abc99240-b5e8-497f-9838-b6b76606ce63",
   "metadata": {},
   "outputs": [
    {
     "data": {
      "text/plain": [
       "'file_with_funcs.py'"
      ]
     },
     "execution_count": 40,
     "metadata": {},
     "output_type": "execute_result"
    }
   ],
   "source": [
    "changed_files[0].path"
   ]
  },
  {
   "cell_type": "code",
   "execution_count": 41,
   "id": "9462f6e2-cf0d-47fa-82de-79d7b6593dcf",
   "metadata": {},
   "outputs": [
    {
     "data": {
      "text/plain": [
       "'mymod4/new/mod/new_move.py'"
      ]
     },
     "execution_count": 41,
     "metadata": {},
     "output_type": "execute_result"
    }
   ],
   "source": [
    "changed_files[1].path"
   ]
  },
  {
   "cell_type": "code",
   "execution_count": 48,
   "id": "546b52a0-122f-44d7-baac-e5ca46f1d615",
   "metadata": {},
   "outputs": [
    {
     "data": {
      "text/plain": [
       "<rope.base.change.ChangeContents at 0x10cda9e50>"
      ]
     },
     "execution_count": 48,
     "metadata": {},
     "output_type": "execute_result"
    }
   ],
   "source": [
    "changes.changes[0]"
   ]
  },
  {
   "cell_type": "code",
   "execution_count": null,
   "id": "f47f9049-3b3b-46e1-9389-8581e5c6f6f2",
   "metadata": {},
   "outputs": [],
   "source": [
    "project.do(changes)"
   ]
  },
  {
   "cell_type": "markdown",
   "id": "fc2eec89-f72a-46d4-afba-4f2c1f5f5b9e",
   "metadata": {},
   "source": [
    "## Moving"
   ]
  },
  {
   "cell_type": "code",
   "execution_count": 72,
   "id": "afb1f310-649a-4de9-91bc-e14c77c8bcd5",
   "metadata": {},
   "outputs": [],
   "source": [
    "new_path = \"mymod3/new/mod/newfile.py\""
   ]
  },
  {
   "cell_type": "code",
   "execution_count": 80,
   "id": "428b2c9f-3088-48d3-a8a1-cff0dbe10525",
   "metadata": {},
   "outputs": [],
   "source": [
    "from rope.base import libutils\n",
    "from pathlib import Path"
   ]
  },
  {
   "cell_type": "code",
   "execution_count": null,
   "id": "bae535cd-4d4a-46da-ba91-ff2be72bca60",
   "metadata": {},
   "outputs": [],
   "source": [
    "# algorithm\n",
    "\n",
    "# - check if path is a file or nested file?\n",
    "# - if it is a nested file --> create the module first for the nested folders if the folders don't exist\n",
    "# - if it is a file --> create an empty module if the resource doesn't exist"
   ]
  },
  {
   "cell_type": "code",
   "execution_count": 130,
   "id": "6315af2d-f867-4964-be2f-7fc6e6370e48",
   "metadata": {},
   "outputs": [],
   "source": [
    "def get_mod_from_path(path: Path):\n",
    "    return str(path).strip(\"/\").replace(\"/\", \".\")"
   ]
  },
  {
   "cell_type": "code",
   "execution_count": 168,
   "id": "0d67e963-4437-41b1-b1ca-6da50d1d17f0",
   "metadata": {},
   "outputs": [],
   "source": [
    "from itertools import accumulate\n",
    "import operator"
   ]
  },
  {
   "cell_type": "code",
   "execution_count": 176,
   "id": "88706d64-272f-497b-ad06-383821b318aa",
   "metadata": {},
   "outputs": [
    {
     "name": "stdout",
     "output_type": "stream",
     "text": [
      "a\n",
      "a.b\n",
      "a.b.c\n"
     ]
    }
   ],
   "source": [
    "for t in accumulate(\"a.b.c\".split(\".\"), func=lambda x, y: f\"{x}.{y}\"):\n",
    "    print(t)"
   ]
  },
  {
   "cell_type": "code",
   "execution_count": 204,
   "id": "5ec47489-ff71-4946-a108-48abe262cef9",
   "metadata": {},
   "outputs": [
    {
     "data": {
      "text/plain": [
       "'.py'"
      ]
     },
     "execution_count": 204,
     "metadata": {},
     "output_type": "execute_result"
    }
   ],
   "source": [
    "Path(new_path).suffix"
   ]
  },
  {
   "cell_type": "code",
   "execution_count": 208,
   "id": "cd28384f-7f91-453d-a0de-30aa54345c4d",
   "metadata": {},
   "outputs": [
    {
     "data": {
      "text/plain": [
       "PosixPath('mymod3/new/mod/newfile')"
      ]
     },
     "execution_count": 208,
     "metadata": {},
     "output_type": "execute_result"
    }
   ],
   "source": [
    "Path(new_path).with_suffix(\"\")"
   ]
  },
  {
   "cell_type": "code",
   "execution_count": 207,
   "id": "2bc1090f-13a6-4942-bead-3a23157fd671",
   "metadata": {},
   "outputs": [
    {
     "data": {
      "text/plain": [
       "''"
      ]
     },
     "execution_count": 207,
     "metadata": {},
     "output_type": "execute_result"
    }
   ],
   "source": [
    "Path(\"mymod3/new/mod/newfile\").suffix"
   ]
  },
  {
   "cell_type": "code",
   "execution_count": 228,
   "id": "48e0a0a7-65f5-41f6-9509-1e88ecf7df95",
   "metadata": {},
   "outputs": [],
   "source": [
    "from rope.base.exceptions import ResourceNotFoundError"
   ]
  },
  {
   "cell_type": "code",
   "execution_count": 234,
   "id": "37d4e508-a01b-42a4-aced-4ee42b5e2c00",
   "metadata": {},
   "outputs": [
    {
     "data": {
      "text/plain": [
       "<rope.base.pyobjectsdef.PyPackage at 0x10c7fac70>"
      ]
     },
     "execution_count": 234,
     "metadata": {},
     "output_type": "execute_result"
    }
   ],
   "source": [
    "project.get_module(\"mymod4\")"
   ]
  },
  {
   "cell_type": "code",
   "execution_count": 229,
   "id": "ad93ef3e-dbc7-44f2-9a61-234e913c3355",
   "metadata": {},
   "outputs": [],
   "source": [
    "def get_or_create_resource(path):\n",
    "    base_path = project.root.real_path\n",
    "    print(Path(base_path + path).exists())\n",
    "    print(str(Path(base_path + path)))\n",
    "    \n",
    "    # if resource doesn't exist, create the module and/or parent subdirs first\n",
    "    if not Path(base_path + path).exists():\n",
    "        full_mod = \"\"\n",
    "        # check if it contains subdirs first\n",
    "        if Path(path).parent != \".\":\n",
    "            # create the subdir first using rope to create pkgs\n",
    "            parent_mod = get_mod_from_path(Path(path).parent)\n",
    "            for mod in accumulate(parent_mod.split(\".\"), lambda x, y: f\"{x}.{y}\"):\n",
    "                print(mod)\n",
    "                try:\n",
    "                    project.get_module(mod)\n",
    "                except ModuleNotFoundError:\n",
    "                    create_package(project, mod)\n",
    "        \n",
    "        # check if it is a module or a package\n",
    "        # module --> .py, package is only name\n",
    "        if Path(path).suffix == \"\":\n",
    "            full_mod = get_mod_from_path(Path(path))\n",
    "            create_package(project, full_mod)\n",
    "        else:\n",
    "            full_mod = get_mod_from_path(Path(path).with_suffix(\"\"))\n",
    "            create_module(project, full_mod)\n",
    "        \n",
    "    return project.get_resource(path)"
   ]
  },
  {
   "cell_type": "code",
   "execution_count": 235,
   "id": "4c7a4287-be11-42d0-ab95-d4f5e70b70e9",
   "metadata": {},
   "outputs": [
    {
     "name": "stdout",
     "output_type": "stream",
     "text": [
      "False\n",
      "/Users/deka.akbar/Projects/hackathon-auto-refactoring/test-refactor/mymod4/new/mod/diff.py\n",
      "mymod4\n",
      "mymod4.new\n",
      "mymod4.new.mod\n"
     ]
    },
    {
     "data": {
      "text/plain": [
       "<rope.base.resources.File at 0x1160fb040>"
      ]
     },
     "execution_count": 235,
     "metadata": {},
     "output_type": "execute_result"
    }
   ],
   "source": [
    "get_or_create_resource(\"mymod4/new/mod/diff.py\")"
   ]
  },
  {
   "cell_type": "code",
   "execution_count": 233,
   "id": "27a5e74f-4af8-4153-9e37-b069de589aca",
   "metadata": {},
   "outputs": [
    {
     "name": "stdout",
     "output_type": "stream",
     "text": [
      "False\n",
      "/Users/deka.akbar/Projects/hackathon-auto-refactoring/test-refactor/mymod4/new/mod/newfile\n",
      "mymod4\n",
      "mymod4.new\n",
      "mymod4.new.mod\n"
     ]
    },
    {
     "data": {
      "text/plain": [
       "<rope.base.resources.Folder at 0x1160fb580>"
      ]
     },
     "execution_count": 233,
     "metadata": {},
     "output_type": "execute_result"
    }
   ],
   "source": [
    "get_or_create_resource(\"mymod4/new/mod/newfile\")"
   ]
  },
  {
   "cell_type": "code",
   "execution_count": 200,
   "id": "3a141c86-bafa-4dc2-bb41-8e39723438c3",
   "metadata": {},
   "outputs": [
    {
     "ename": "AttributeError",
     "evalue": "'Folder' object has no attribute 'exist'",
     "output_type": "error",
     "traceback": [
      "\u001B[0;31m---------------------------------------------------------------------------\u001B[0m",
      "\u001B[0;31mAttributeError\u001B[0m                            Traceback (most recent call last)",
      "\u001B[0;32m<ipython-input-200-eff479db247d>\u001B[0m in \u001B[0;36m<module>\u001B[0;34m\u001B[0m\n\u001B[0;32m----> 1\u001B[0;31m \u001B[0mpymod\u001B[0m\u001B[0;34m.\u001B[0m\u001B[0mget_resource\u001B[0m\u001B[0;34m(\u001B[0m\u001B[0;34m)\u001B[0m\u001B[0;34m.\u001B[0m\u001B[0mexist\u001B[0m\u001B[0;34m(\u001B[0m\u001B[0;34m)\u001B[0m\u001B[0;34m\u001B[0m\u001B[0;34m\u001B[0m\u001B[0m\n\u001B[0m",
      "\u001B[0;31mAttributeError\u001B[0m: 'Folder' object has no attribute 'exist'"
     ]
    }
   ],
   "source": [
    "pymod.get_resource().exist()"
   ]
  },
  {
   "cell_type": "code",
   "execution_count": 188,
   "id": "8aea8861-34fa-41dd-94f8-458e9cbd1302",
   "metadata": {},
   "outputs": [
    {
     "data": {
      "text/plain": [
       "True"
      ]
     },
     "execution_count": 188,
     "metadata": {},
     "output_type": "execute_result"
    }
   ],
   "source": [
    "pymod.get_resource().exists()"
   ]
  },
  {
   "cell_type": "code",
   "execution_count": 164,
   "id": "ec77cc93-3f02-48b3-b2bf-44a38494b8be",
   "metadata": {},
   "outputs": [
    {
     "ename": "ResourceNotFoundError",
     "evalue": "Resource <mymod3> does not exist",
     "output_type": "error",
     "traceback": [
      "\u001B[0;31m---------------------------------------------------------------------------\u001B[0m",
      "\u001B[0;31mResourceNotFoundError\u001B[0m                     Traceback (most recent call last)",
      "\u001B[0;32m<ipython-input-164-df2ac98a7273>\u001B[0m in \u001B[0;36m<module>\u001B[0;34m\u001B[0m\n\u001B[0;32m----> 1\u001B[0;31m \u001B[0mget_or_create_resource\u001B[0m\u001B[0;34m(\u001B[0m\u001B[0mnew_path\u001B[0m\u001B[0;34m)\u001B[0m\u001B[0;34m\u001B[0m\u001B[0;34m\u001B[0m\u001B[0m\n\u001B[0m",
      "\u001B[0;32m<ipython-input-163-2a4a82bcebb5>\u001B[0m in \u001B[0;36mget_or_create_resource\u001B[0;34m(path)\u001B[0m\n\u001B[1;32m     11\u001B[0m         \u001B[0;31m# create the subdir first using rope to create pkgs\u001B[0m\u001B[0;34m\u001B[0m\u001B[0;34m\u001B[0m\u001B[0m\n\u001B[1;32m     12\u001B[0m         \u001B[0mmod\u001B[0m \u001B[0;34m=\u001B[0m \u001B[0mget_mod_from_path\u001B[0m\u001B[0;34m(\u001B[0m\u001B[0mPath\u001B[0m\u001B[0;34m(\u001B[0m\u001B[0mpath\u001B[0m\u001B[0;34m)\u001B[0m\u001B[0;34m.\u001B[0m\u001B[0mparent\u001B[0m\u001B[0;34m)\u001B[0m\u001B[0;34m\u001B[0m\u001B[0;34m\u001B[0m\u001B[0m\n\u001B[0;32m---> 13\u001B[0;31m         \u001B[0mcreate_package\u001B[0m\u001B[0;34m(\u001B[0m\u001B[0mproject\u001B[0m\u001B[0;34m,\u001B[0m \u001B[0mmod\u001B[0m\u001B[0;34m)\u001B[0m\u001B[0;34m\u001B[0m\u001B[0;34m\u001B[0m\u001B[0m\n\u001B[0m\u001B[1;32m     14\u001B[0m \u001B[0;34m\u001B[0m\u001B[0m\n\u001B[1;32m     15\u001B[0m \u001B[0;34m\u001B[0m\u001B[0m\n",
      "\u001B[0;32m~/universe-venv/lib/python3.9/site-packages/rope/contrib/generate.py\u001B[0m in \u001B[0;36mcreate_package\u001B[0;34m(project, name, sourcefolder)\u001B[0m\n\u001B[1;32m     34\u001B[0m     \u001B[0mparent\u001B[0m \u001B[0;34m=\u001B[0m \u001B[0msourcefolder\u001B[0m\u001B[0;34m\u001B[0m\u001B[0;34m\u001B[0m\u001B[0m\n\u001B[1;32m     35\u001B[0m     \u001B[0;32mfor\u001B[0m \u001B[0mpackage\u001B[0m \u001B[0;32min\u001B[0m \u001B[0mpackages\u001B[0m\u001B[0;34m[\u001B[0m\u001B[0;34m:\u001B[0m\u001B[0;34m-\u001B[0m\u001B[0;36m1\u001B[0m\u001B[0;34m]\u001B[0m\u001B[0;34m:\u001B[0m\u001B[0;34m\u001B[0m\u001B[0;34m\u001B[0m\u001B[0m\n\u001B[0;32m---> 36\u001B[0;31m         \u001B[0mparent\u001B[0m \u001B[0;34m=\u001B[0m \u001B[0mparent\u001B[0m\u001B[0;34m.\u001B[0m\u001B[0mget_child\u001B[0m\u001B[0;34m(\u001B[0m\u001B[0mpackage\u001B[0m\u001B[0;34m)\u001B[0m\u001B[0;34m\u001B[0m\u001B[0;34m\u001B[0m\u001B[0m\n\u001B[0m\u001B[1;32m     37\u001B[0m     \u001B[0mmade_packages\u001B[0m \u001B[0;34m=\u001B[0m \u001B[0mparent\u001B[0m\u001B[0;34m.\u001B[0m\u001B[0mcreate_folder\u001B[0m\u001B[0;34m(\u001B[0m\u001B[0mpackages\u001B[0m\u001B[0;34m[\u001B[0m\u001B[0;34m-\u001B[0m\u001B[0;36m1\u001B[0m\u001B[0;34m]\u001B[0m\u001B[0;34m)\u001B[0m\u001B[0;34m\u001B[0m\u001B[0;34m\u001B[0m\u001B[0m\n\u001B[1;32m     38\u001B[0m     \u001B[0mmade_packages\u001B[0m\u001B[0;34m.\u001B[0m\u001B[0mcreate_file\u001B[0m\u001B[0;34m(\u001B[0m\u001B[0;34m\"__init__.py\"\u001B[0m\u001B[0;34m)\u001B[0m\u001B[0;34m\u001B[0m\u001B[0;34m\u001B[0m\u001B[0m\n",
      "\u001B[0;32m~/universe-venv/lib/python3.9/site-packages/rope/base/resources.py\u001B[0m in \u001B[0;36mget_child\u001B[0;34m(self, name)\u001B[0m\n\u001B[1;32m    191\u001B[0m \u001B[0;34m\u001B[0m\u001B[0m\n\u001B[1;32m    192\u001B[0m     \u001B[0;32mdef\u001B[0m \u001B[0mget_child\u001B[0m\u001B[0;34m(\u001B[0m\u001B[0mself\u001B[0m\u001B[0;34m,\u001B[0m \u001B[0mname\u001B[0m\u001B[0;34m)\u001B[0m\u001B[0;34m:\u001B[0m\u001B[0;34m\u001B[0m\u001B[0;34m\u001B[0m\u001B[0m\n\u001B[0;32m--> 193\u001B[0;31m         \u001B[0;32mreturn\u001B[0m \u001B[0mself\u001B[0m\u001B[0;34m.\u001B[0m\u001B[0mproject\u001B[0m\u001B[0;34m.\u001B[0m\u001B[0mget_resource\u001B[0m\u001B[0;34m(\u001B[0m\u001B[0mself\u001B[0m\u001B[0;34m.\u001B[0m\u001B[0m_get_child_path\u001B[0m\u001B[0;34m(\u001B[0m\u001B[0mname\u001B[0m\u001B[0;34m)\u001B[0m\u001B[0;34m)\u001B[0m\u001B[0;34m\u001B[0m\u001B[0;34m\u001B[0m\u001B[0m\n\u001B[0m\u001B[1;32m    194\u001B[0m \u001B[0;34m\u001B[0m\u001B[0m\n\u001B[1;32m    195\u001B[0m     \u001B[0;32mdef\u001B[0m \u001B[0mhas_child\u001B[0m\u001B[0;34m(\u001B[0m\u001B[0mself\u001B[0m\u001B[0;34m,\u001B[0m \u001B[0mname\u001B[0m\u001B[0;34m)\u001B[0m\u001B[0;34m:\u001B[0m\u001B[0;34m\u001B[0m\u001B[0;34m\u001B[0m\u001B[0m\n",
      "\u001B[0;32m~/universe-venv/lib/python3.9/site-packages/rope/base/project.py\u001B[0m in \u001B[0;36mget_resource\u001B[0;34m(self, resource_name)\u001B[0m\n\u001B[1;32m     38\u001B[0m         \u001B[0mpath\u001B[0m \u001B[0;34m=\u001B[0m \u001B[0mself\u001B[0m\u001B[0;34m.\u001B[0m\u001B[0m_get_resource_path\u001B[0m\u001B[0;34m(\u001B[0m\u001B[0mresource_name\u001B[0m\u001B[0;34m)\u001B[0m\u001B[0;34m\u001B[0m\u001B[0;34m\u001B[0m\u001B[0m\n\u001B[1;32m     39\u001B[0m         \u001B[0;32mif\u001B[0m \u001B[0;32mnot\u001B[0m \u001B[0mos\u001B[0m\u001B[0;34m.\u001B[0m\u001B[0mpath\u001B[0m\u001B[0;34m.\u001B[0m\u001B[0mexists\u001B[0m\u001B[0;34m(\u001B[0m\u001B[0mpath\u001B[0m\u001B[0;34m)\u001B[0m\u001B[0;34m:\u001B[0m\u001B[0;34m\u001B[0m\u001B[0;34m\u001B[0m\u001B[0m\n\u001B[0;32m---> 40\u001B[0;31m             raise exceptions.ResourceNotFoundError(\n\u001B[0m\u001B[1;32m     41\u001B[0m                 \u001B[0;34m\"Resource <%s> does not exist\"\u001B[0m \u001B[0;34m%\u001B[0m \u001B[0mresource_name\u001B[0m\u001B[0;34m\u001B[0m\u001B[0;34m\u001B[0m\u001B[0m\n\u001B[1;32m     42\u001B[0m             )\n",
      "\u001B[0;31mResourceNotFoundError\u001B[0m: Resource <mymod3> does not exist"
     ]
    }
   ],
   "source": [
    "get_or_create_resource(new_path)"
   ]
  },
  {
   "cell_type": "code",
   "execution_count": 157,
   "id": "37e6594c-072a-47fd-942b-48b5799785d5",
   "metadata": {},
   "outputs": [
    {
     "ename": "AttributeError",
     "evalue": "'File' object has no attribute 'get_resource'",
     "output_type": "error",
     "traceback": [
      "\u001B[0;31m---------------------------------------------------------------------------\u001B[0m",
      "\u001B[0;31mAttributeError\u001B[0m                            Traceback (most recent call last)",
      "\u001B[0;32m<ipython-input-157-0c161e5f8a39>\u001B[0m in \u001B[0;36m<module>\u001B[0;34m\u001B[0m\n\u001B[0;32m----> 1\u001B[0;31m \u001B[0mproject\u001B[0m\u001B[0;34m.\u001B[0m\u001B[0mget_resource\u001B[0m\u001B[0;34m(\u001B[0m\u001B[0;34m\"new_file.py\"\u001B[0m\u001B[0;34m)\u001B[0m\u001B[0;34m.\u001B[0m\u001B[0mget_resource\u001B[0m\u001B[0;34m(\u001B[0m\u001B[0;34m)\u001B[0m\u001B[0;34m\u001B[0m\u001B[0;34m\u001B[0m\u001B[0m\n\u001B[0m",
      "\u001B[0;31mAttributeError\u001B[0m: 'File' object has no attribute 'get_resource'"
     ]
    }
   ],
   "source": [
    "project.get_resource(\"new_file.py\").get_resource()"
   ]
  },
  {
   "cell_type": "code",
   "execution_count": 109,
   "id": "65c90fab-b5b7-4148-a6d3-1ee0cf4cf8b4",
   "metadata": {},
   "outputs": [
    {
     "data": {
      "text/plain": [
       "<rope.base.resources.Folder at 0x11559a250>"
      ]
     },
     "execution_count": 109,
     "metadata": {},
     "output_type": "execute_result"
    }
   ],
   "source": [
    "project.root"
   ]
  },
  {
   "cell_type": "code",
   "execution_count": 121,
   "id": "1485def9-f860-4c6f-87c2-cf69bc9bf55e",
   "metadata": {},
   "outputs": [
    {
     "data": {
      "text/plain": [
       "'mymod3/new/mod/newfile.py'"
      ]
     },
     "execution_count": 121,
     "metadata": {},
     "output_type": "execute_result"
    }
   ],
   "source": [
    "new_path"
   ]
  },
  {
   "cell_type": "code",
   "execution_count": 125,
   "id": "383cf839-b41a-4021-98bf-8db0406116ef",
   "metadata": {},
   "outputs": [
    {
     "data": {
      "text/plain": [
       "PosixPath('mymod3/new/mod')"
      ]
     },
     "execution_count": 125,
     "metadata": {},
     "output_type": "execute_result"
    }
   ],
   "source": [
    "Path(new_path).parent"
   ]
  },
  {
   "cell_type": "code",
   "execution_count": null,
   "id": "3272fded-0dc5-4b41-8875-199bf4136cbe",
   "metadata": {},
   "outputs": [],
   "source": [
    "if Path(\"newfile.py\")."
   ]
  },
  {
   "cell_type": "code",
   "execution_count": 126,
   "id": "65f5bff4-07bb-4826-b0c5-4cc60d1964ed",
   "metadata": {},
   "outputs": [
    {
     "data": {
      "text/plain": [
       "PosixPath('.')"
      ]
     },
     "execution_count": 126,
     "metadata": {},
     "output_type": "execute_result"
    }
   ],
   "source": [
    "Path(\"newfile.py\").parent"
   ]
  },
  {
   "cell_type": "code",
   "execution_count": 127,
   "id": "ce8147db-99a1-4ff9-b977-1a3239a27939",
   "metadata": {},
   "outputs": [
    {
     "data": {
      "text/plain": [
       "PosixPath('/')"
      ]
     },
     "execution_count": 127,
     "metadata": {},
     "output_type": "execute_result"
    }
   ],
   "source": [
    "Path(\"/newfile.py\").parent"
   ]
  },
  {
   "cell_type": "code",
   "execution_count": 112,
   "id": "9a5e24e4-56fd-486f-a2ac-52d877fdf69c",
   "metadata": {},
   "outputs": [],
   "source": [
    "Path(project.root.real_path + new_path).parent.mkdir(parents=True, exist_ok=True)"
   ]
  },
  {
   "cell_type": "code",
   "execution_count": 128,
   "id": "f7d03a42-51ff-4f03-a56a-5640f5f62af3",
   "metadata": {},
   "outputs": [],
   "source": [
    "# create_package(project, \"mymod3\")"
   ]
  },
  {
   "cell_type": "code",
   "execution_count": 129,
   "id": "bdcf95be-2250-4e09-91a7-6b9f60fe69c6",
   "metadata": {},
   "outputs": [],
   "source": [
    "# create_module(project, \"mymod3.mymod2\")"
   ]
  },
  {
   "cell_type": "code",
   "execution_count": 113,
   "id": "6e5b6f7e-bff6-4f7f-b688-fcac33446c8e",
   "metadata": {},
   "outputs": [
    {
     "data": {
      "text/plain": [
       "<rope.base.pyobjectsdef.PyPackage at 0x116101460>"
      ]
     },
     "execution_count": 113,
     "metadata": {},
     "output_type": "execute_result"
    }
   ],
   "source": [
    "project.get_module(\"mymod3.new\")"
   ]
  },
  {
   "cell_type": "code",
   "execution_count": 107,
   "id": "d0b1bc9c-a37a-498f-8b29-8b53a35d03d2",
   "metadata": {},
   "outputs": [
    {
     "ename": "ResourceNotFoundError",
     "evalue": "Resource <mymod3/new/mod/newfile> does not exist",
     "output_type": "error",
     "traceback": [
      "\u001B[0;31m---------------------------------------------------------------------------\u001B[0m",
      "\u001B[0;31mResourceNotFoundError\u001B[0m                     Traceback (most recent call last)",
      "\u001B[0;32m<ipython-input-107-3e5b8687d01d>\u001B[0m in \u001B[0;36m<module>\u001B[0;34m\u001B[0m\n\u001B[0;32m----> 1\u001B[0;31m \u001B[0mcreate_package\u001B[0m\u001B[0;34m(\u001B[0m\u001B[0mproject\u001B[0m\u001B[0;34m,\u001B[0m \u001B[0mnew_path\u001B[0m\u001B[0;34m)\u001B[0m\u001B[0;34m\u001B[0m\u001B[0;34m\u001B[0m\u001B[0m\n\u001B[0m",
      "\u001B[0;32m~/universe-venv/lib/python3.9/site-packages/rope/contrib/generate.py\u001B[0m in \u001B[0;36mcreate_package\u001B[0;34m(project, name, sourcefolder)\u001B[0m\n\u001B[1;32m     34\u001B[0m     \u001B[0mparent\u001B[0m \u001B[0;34m=\u001B[0m \u001B[0msourcefolder\u001B[0m\u001B[0;34m\u001B[0m\u001B[0;34m\u001B[0m\u001B[0m\n\u001B[1;32m     35\u001B[0m     \u001B[0;32mfor\u001B[0m \u001B[0mpackage\u001B[0m \u001B[0;32min\u001B[0m \u001B[0mpackages\u001B[0m\u001B[0;34m[\u001B[0m\u001B[0;34m:\u001B[0m\u001B[0;34m-\u001B[0m\u001B[0;36m1\u001B[0m\u001B[0;34m]\u001B[0m\u001B[0;34m:\u001B[0m\u001B[0;34m\u001B[0m\u001B[0;34m\u001B[0m\u001B[0m\n\u001B[0;32m---> 36\u001B[0;31m         \u001B[0mparent\u001B[0m \u001B[0;34m=\u001B[0m \u001B[0mparent\u001B[0m\u001B[0;34m.\u001B[0m\u001B[0mget_child\u001B[0m\u001B[0;34m(\u001B[0m\u001B[0mpackage\u001B[0m\u001B[0;34m)\u001B[0m\u001B[0;34m\u001B[0m\u001B[0;34m\u001B[0m\u001B[0m\n\u001B[0m\u001B[1;32m     37\u001B[0m     \u001B[0mmade_packages\u001B[0m \u001B[0;34m=\u001B[0m \u001B[0mparent\u001B[0m\u001B[0;34m.\u001B[0m\u001B[0mcreate_folder\u001B[0m\u001B[0;34m(\u001B[0m\u001B[0mpackages\u001B[0m\u001B[0;34m[\u001B[0m\u001B[0;34m-\u001B[0m\u001B[0;36m1\u001B[0m\u001B[0;34m]\u001B[0m\u001B[0;34m)\u001B[0m\u001B[0;34m\u001B[0m\u001B[0;34m\u001B[0m\u001B[0m\n\u001B[1;32m     38\u001B[0m     \u001B[0mmade_packages\u001B[0m\u001B[0;34m.\u001B[0m\u001B[0mcreate_file\u001B[0m\u001B[0;34m(\u001B[0m\u001B[0;34m\"__init__.py\"\u001B[0m\u001B[0;34m)\u001B[0m\u001B[0;34m\u001B[0m\u001B[0;34m\u001B[0m\u001B[0m\n",
      "\u001B[0;32m~/universe-venv/lib/python3.9/site-packages/rope/base/resources.py\u001B[0m in \u001B[0;36mget_child\u001B[0;34m(self, name)\u001B[0m\n\u001B[1;32m    191\u001B[0m \u001B[0;34m\u001B[0m\u001B[0m\n\u001B[1;32m    192\u001B[0m     \u001B[0;32mdef\u001B[0m \u001B[0mget_child\u001B[0m\u001B[0;34m(\u001B[0m\u001B[0mself\u001B[0m\u001B[0;34m,\u001B[0m \u001B[0mname\u001B[0m\u001B[0;34m)\u001B[0m\u001B[0;34m:\u001B[0m\u001B[0;34m\u001B[0m\u001B[0;34m\u001B[0m\u001B[0m\n\u001B[0;32m--> 193\u001B[0;31m         \u001B[0;32mreturn\u001B[0m \u001B[0mself\u001B[0m\u001B[0;34m.\u001B[0m\u001B[0mproject\u001B[0m\u001B[0;34m.\u001B[0m\u001B[0mget_resource\u001B[0m\u001B[0;34m(\u001B[0m\u001B[0mself\u001B[0m\u001B[0;34m.\u001B[0m\u001B[0m_get_child_path\u001B[0m\u001B[0;34m(\u001B[0m\u001B[0mname\u001B[0m\u001B[0;34m)\u001B[0m\u001B[0;34m)\u001B[0m\u001B[0;34m\u001B[0m\u001B[0;34m\u001B[0m\u001B[0m\n\u001B[0m\u001B[1;32m    194\u001B[0m \u001B[0;34m\u001B[0m\u001B[0m\n\u001B[1;32m    195\u001B[0m     \u001B[0;32mdef\u001B[0m \u001B[0mhas_child\u001B[0m\u001B[0;34m(\u001B[0m\u001B[0mself\u001B[0m\u001B[0;34m,\u001B[0m \u001B[0mname\u001B[0m\u001B[0;34m)\u001B[0m\u001B[0;34m:\u001B[0m\u001B[0;34m\u001B[0m\u001B[0;34m\u001B[0m\u001B[0m\n",
      "\u001B[0;32m~/universe-venv/lib/python3.9/site-packages/rope/base/project.py\u001B[0m in \u001B[0;36mget_resource\u001B[0;34m(self, resource_name)\u001B[0m\n\u001B[1;32m     38\u001B[0m         \u001B[0mpath\u001B[0m \u001B[0;34m=\u001B[0m \u001B[0mself\u001B[0m\u001B[0;34m.\u001B[0m\u001B[0m_get_resource_path\u001B[0m\u001B[0;34m(\u001B[0m\u001B[0mresource_name\u001B[0m\u001B[0;34m)\u001B[0m\u001B[0;34m\u001B[0m\u001B[0;34m\u001B[0m\u001B[0m\n\u001B[1;32m     39\u001B[0m         \u001B[0;32mif\u001B[0m \u001B[0;32mnot\u001B[0m \u001B[0mos\u001B[0m\u001B[0;34m.\u001B[0m\u001B[0mpath\u001B[0m\u001B[0;34m.\u001B[0m\u001B[0mexists\u001B[0m\u001B[0;34m(\u001B[0m\u001B[0mpath\u001B[0m\u001B[0;34m)\u001B[0m\u001B[0;34m:\u001B[0m\u001B[0;34m\u001B[0m\u001B[0;34m\u001B[0m\u001B[0m\n\u001B[0;32m---> 40\u001B[0;31m             raise exceptions.ResourceNotFoundError(\n\u001B[0m\u001B[1;32m     41\u001B[0m                 \u001B[0;34m\"Resource <%s> does not exist\"\u001B[0m \u001B[0;34m%\u001B[0m \u001B[0mresource_name\u001B[0m\u001B[0;34m\u001B[0m\u001B[0;34m\u001B[0m\u001B[0m\n\u001B[1;32m     42\u001B[0m             )\n",
      "\u001B[0;31mResourceNotFoundError\u001B[0m: Resource <mymod3/new/mod/newfile> does not exist"
     ]
    }
   ],
   "source": [
    "create_package(project, new_path)"
   ]
  },
  {
   "cell_type": "code",
   "execution_count": 105,
   "id": "ca36920b-bc77-49af-8083-0b9d13b5c4fd",
   "metadata": {},
   "outputs": [],
   "source": []
  },
  {
   "cell_type": "code",
   "execution_count": 101,
   "id": "089e975c-f353-4217-9305-138760462f59",
   "metadata": {},
   "outputs": [
    {
     "data": {
      "text/plain": [
       "'/Users/deka.akbar/Projects/hackathon-auto-refactoring/test-refactor/'"
      ]
     },
     "execution_count": 101,
     "metadata": {},
     "output_type": "execute_result"
    }
   ],
   "source": [
    "project.root.real_path"
   ]
  },
  {
   "cell_type": "code",
   "execution_count": 102,
   "id": "2d2186bc-10ec-4f95-bf7f-eb48d41f5158",
   "metadata": {},
   "outputs": [],
   "source": [
    "# check for nested path's path"
   ]
  },
  {
   "cell_type": "code",
   "execution_count": 103,
   "id": "986fa8a9-b2c6-4019-8bb9-e8c2127dbdd5",
   "metadata": {},
   "outputs": [],
   "source": [
    "get_or_create_resource(new_path)"
   ]
  },
  {
   "cell_type": "code",
   "execution_count": 75,
   "id": "1bcd1ae4-6ad6-4a27-ad01-d67f77ba5dd6",
   "metadata": {},
   "outputs": [
    {
     "ename": "ResourceNotFoundError",
     "evalue": "Resource </Users/deka.akbar/Projects/hackathon-auto-refactoring/notebooks/mymod3/new/mod/newfile.py> does not exist",
     "output_type": "error",
     "traceback": [
      "\u001B[0;31m---------------------------------------------------------------------------\u001B[0m",
      "\u001B[0;31mResourceNotFoundError\u001B[0m                     Traceback (most recent call last)",
      "\u001B[0;32m<ipython-input-75-0b60750226cf>\u001B[0m in \u001B[0;36m<module>\u001B[0;34m\u001B[0m\n\u001B[0;32m----> 1\u001B[0;31m \u001B[0mnew_res\u001B[0m \u001B[0;34m=\u001B[0m \u001B[0mlibutils\u001B[0m\u001B[0;34m.\u001B[0m\u001B[0mpath_to_resource\u001B[0m\u001B[0;34m(\u001B[0m\u001B[0mproject\u001B[0m\u001B[0;34m,\u001B[0m \u001B[0mnew_path\u001B[0m\u001B[0;34m)\u001B[0m\u001B[0;34m\u001B[0m\u001B[0;34m\u001B[0m\u001B[0m\n\u001B[0m\u001B[1;32m      2\u001B[0m \u001B[0mnew_res\u001B[0m\u001B[0;34m\u001B[0m\u001B[0;34m\u001B[0m\u001B[0m\n",
      "\u001B[0;32m~/universe-venv/lib/python3.9/site-packages/rope/base/libutils.py\u001B[0m in \u001B[0;36mpath_to_resource\u001B[0;34m(project, path, type)\u001B[0m\n\u001B[1;32m     25\u001B[0m         \u001B[0mproject\u001B[0m \u001B[0;34m=\u001B[0m \u001B[0mrope\u001B[0m\u001B[0;34m.\u001B[0m\u001B[0mbase\u001B[0m\u001B[0;34m.\u001B[0m\u001B[0mproject\u001B[0m\u001B[0;34m.\u001B[0m\u001B[0mget_no_project\u001B[0m\u001B[0;34m(\u001B[0m\u001B[0;34m)\u001B[0m\u001B[0;34m\u001B[0m\u001B[0;34m\u001B[0m\u001B[0m\n\u001B[1;32m     26\u001B[0m     \u001B[0;32mif\u001B[0m \u001B[0mtype\u001B[0m \u001B[0;32mis\u001B[0m \u001B[0;32mNone\u001B[0m\u001B[0;34m:\u001B[0m\u001B[0;34m\u001B[0m\u001B[0;34m\u001B[0m\u001B[0m\n\u001B[0;32m---> 27\u001B[0;31m         \u001B[0;32mreturn\u001B[0m \u001B[0mproject\u001B[0m\u001B[0;34m.\u001B[0m\u001B[0mget_resource\u001B[0m\u001B[0;34m(\u001B[0m\u001B[0mproject_path\u001B[0m\u001B[0;34m)\u001B[0m\u001B[0;34m\u001B[0m\u001B[0;34m\u001B[0m\u001B[0m\n\u001B[0m\u001B[1;32m     28\u001B[0m     \u001B[0;32mif\u001B[0m \u001B[0mtype\u001B[0m \u001B[0;34m==\u001B[0m \u001B[0;34m\"file\"\u001B[0m\u001B[0;34m:\u001B[0m\u001B[0;34m\u001B[0m\u001B[0;34m\u001B[0m\u001B[0m\n\u001B[1;32m     29\u001B[0m         \u001B[0;32mreturn\u001B[0m \u001B[0mproject\u001B[0m\u001B[0;34m.\u001B[0m\u001B[0mget_file\u001B[0m\u001B[0;34m(\u001B[0m\u001B[0mproject_path\u001B[0m\u001B[0;34m)\u001B[0m\u001B[0;34m\u001B[0m\u001B[0;34m\u001B[0m\u001B[0m\n",
      "\u001B[0;32m~/universe-venv/lib/python3.9/site-packages/rope/base/project.py\u001B[0m in \u001B[0;36mget_resource\u001B[0;34m(self, name)\u001B[0m\n\u001B[1;32m    335\u001B[0m     \u001B[0;32mdef\u001B[0m \u001B[0mget_resource\u001B[0m\u001B[0;34m(\u001B[0m\u001B[0mself\u001B[0m\u001B[0;34m,\u001B[0m \u001B[0mname\u001B[0m\u001B[0;34m)\u001B[0m\u001B[0;34m:\u001B[0m\u001B[0;34m\u001B[0m\u001B[0;34m\u001B[0m\u001B[0m\n\u001B[1;32m    336\u001B[0m         \u001B[0muniversal_name\u001B[0m \u001B[0;34m=\u001B[0m \u001B[0m_realpath\u001B[0m\u001B[0;34m(\u001B[0m\u001B[0mname\u001B[0m\u001B[0;34m)\u001B[0m\u001B[0;34m.\u001B[0m\u001B[0mreplace\u001B[0m\u001B[0;34m(\u001B[0m\u001B[0mos\u001B[0m\u001B[0;34m.\u001B[0m\u001B[0mpath\u001B[0m\u001B[0;34m.\u001B[0m\u001B[0msep\u001B[0m\u001B[0;34m,\u001B[0m \u001B[0;34m\"/\"\u001B[0m\u001B[0;34m)\u001B[0m\u001B[0;34m\u001B[0m\u001B[0;34m\u001B[0m\u001B[0m\n\u001B[0;32m--> 337\u001B[0;31m         \u001B[0;32mreturn\u001B[0m \u001B[0msuper\u001B[0m\u001B[0;34m(\u001B[0m\u001B[0mNoProject\u001B[0m\u001B[0;34m,\u001B[0m \u001B[0mself\u001B[0m\u001B[0;34m)\u001B[0m\u001B[0;34m.\u001B[0m\u001B[0mget_resource\u001B[0m\u001B[0;34m(\u001B[0m\u001B[0muniversal_name\u001B[0m\u001B[0;34m)\u001B[0m\u001B[0;34m\u001B[0m\u001B[0;34m\u001B[0m\u001B[0m\n\u001B[0m\u001B[1;32m    338\u001B[0m \u001B[0;34m\u001B[0m\u001B[0m\n\u001B[1;32m    339\u001B[0m     \u001B[0;32mdef\u001B[0m \u001B[0mget_files\u001B[0m\u001B[0;34m(\u001B[0m\u001B[0mself\u001B[0m\u001B[0;34m)\u001B[0m\u001B[0;34m:\u001B[0m\u001B[0;34m\u001B[0m\u001B[0;34m\u001B[0m\u001B[0m\n",
      "\u001B[0;32m~/universe-venv/lib/python3.9/site-packages/rope/base/project.py\u001B[0m in \u001B[0;36mget_resource\u001B[0;34m(self, resource_name)\u001B[0m\n\u001B[1;32m     38\u001B[0m         \u001B[0mpath\u001B[0m \u001B[0;34m=\u001B[0m \u001B[0mself\u001B[0m\u001B[0;34m.\u001B[0m\u001B[0m_get_resource_path\u001B[0m\u001B[0;34m(\u001B[0m\u001B[0mresource_name\u001B[0m\u001B[0;34m)\u001B[0m\u001B[0;34m\u001B[0m\u001B[0;34m\u001B[0m\u001B[0m\n\u001B[1;32m     39\u001B[0m         \u001B[0;32mif\u001B[0m \u001B[0;32mnot\u001B[0m \u001B[0mos\u001B[0m\u001B[0;34m.\u001B[0m\u001B[0mpath\u001B[0m\u001B[0;34m.\u001B[0m\u001B[0mexists\u001B[0m\u001B[0;34m(\u001B[0m\u001B[0mpath\u001B[0m\u001B[0;34m)\u001B[0m\u001B[0;34m:\u001B[0m\u001B[0;34m\u001B[0m\u001B[0;34m\u001B[0m\u001B[0m\n\u001B[0;32m---> 40\u001B[0;31m             raise exceptions.ResourceNotFoundError(\n\u001B[0m\u001B[1;32m     41\u001B[0m                 \u001B[0;34m\"Resource <%s> does not exist\"\u001B[0m \u001B[0;34m%\u001B[0m \u001B[0mresource_name\u001B[0m\u001B[0;34m\u001B[0m\u001B[0;34m\u001B[0m\u001B[0m\n\u001B[1;32m     42\u001B[0m             )\n",
      "\u001B[0;31mResourceNotFoundError\u001B[0m: Resource </Users/deka.akbar/Projects/hackathon-auto-refactoring/notebooks/mymod3/new/mod/newfile.py> does not exist"
     ]
    }
   ],
   "source": [
    "new_res = libutils.path_to_resource(project, new_path)\n",
    "new_res"
   ]
  },
  {
   "cell_type": "code",
   "execution_count": 76,
   "id": "a181236d-2d54-4869-b3c1-a8e5f65d7d0a",
   "metadata": {},
   "outputs": [
    {
     "ename": "ResourceNotFoundError",
     "evalue": "Resource <mymod3/new/mod/newfile.py> does not exist",
     "output_type": "error",
     "traceback": [
      "\u001B[0;31m---------------------------------------------------------------------------\u001B[0m",
      "\u001B[0;31mResourceNotFoundError\u001B[0m                     Traceback (most recent call last)",
      "\u001B[0;32m<ipython-input-76-7b12dd5cad1e>\u001B[0m in \u001B[0;36m<module>\u001B[0;34m\u001B[0m\n\u001B[0;32m----> 1\u001B[0;31m \u001B[0mproject\u001B[0m\u001B[0;34m.\u001B[0m\u001B[0mget_resource\u001B[0m\u001B[0;34m(\u001B[0m\u001B[0;34m\"mymod3/new/mod/newfile.py\"\u001B[0m\u001B[0;34m)\u001B[0m\u001B[0;34m\u001B[0m\u001B[0;34m\u001B[0m\u001B[0m\n\u001B[0m",
      "\u001B[0;32m~/universe-venv/lib/python3.9/site-packages/rope/base/project.py\u001B[0m in \u001B[0;36mget_resource\u001B[0;34m(self, resource_name)\u001B[0m\n\u001B[1;32m     38\u001B[0m         \u001B[0mpath\u001B[0m \u001B[0;34m=\u001B[0m \u001B[0mself\u001B[0m\u001B[0;34m.\u001B[0m\u001B[0m_get_resource_path\u001B[0m\u001B[0;34m(\u001B[0m\u001B[0mresource_name\u001B[0m\u001B[0;34m)\u001B[0m\u001B[0;34m\u001B[0m\u001B[0;34m\u001B[0m\u001B[0m\n\u001B[1;32m     39\u001B[0m         \u001B[0;32mif\u001B[0m \u001B[0;32mnot\u001B[0m \u001B[0mos\u001B[0m\u001B[0;34m.\u001B[0m\u001B[0mpath\u001B[0m\u001B[0;34m.\u001B[0m\u001B[0mexists\u001B[0m\u001B[0;34m(\u001B[0m\u001B[0mpath\u001B[0m\u001B[0;34m)\u001B[0m\u001B[0;34m:\u001B[0m\u001B[0;34m\u001B[0m\u001B[0;34m\u001B[0m\u001B[0m\n\u001B[0;32m---> 40\u001B[0;31m             raise exceptions.ResourceNotFoundError(\n\u001B[0m\u001B[1;32m     41\u001B[0m                 \u001B[0;34m\"Resource <%s> does not exist\"\u001B[0m \u001B[0;34m%\u001B[0m \u001B[0mresource_name\u001B[0m\u001B[0;34m\u001B[0m\u001B[0;34m\u001B[0m\u001B[0m\n\u001B[1;32m     42\u001B[0m             )\n",
      "\u001B[0;31mResourceNotFoundError\u001B[0m: Resource <mymod3/new/mod/newfile.py> does not exist"
     ]
    }
   ],
   "source": [
    "project.get_resource(\"mymod3/new/mod/newfile.py\")"
   ]
  },
  {
   "cell_type": "code",
   "execution_count": null,
   "id": "62947a4c-cbff-445b-90c7-a0f3c482c503",
   "metadata": {},
   "outputs": [],
   "source": []
  }
 ],
 "metadata": {
  "kernelspec": {
   "display_name": "Python 3",
   "language": "python",
   "name": "python3"
  },
  "language_info": {
   "codemirror_mode": {
    "name": "ipython",
    "version": 3
   },
   "file_extension": ".py",
   "mimetype": "text/x-python",
   "name": "python",
   "nbconvert_exporter": "python",
   "pygments_lexer": "ipython3",
   "version": "3.9.10"
  },
  "widgets": {
   "application/vnd.jupyter.widget-state+json": {
    "state": {},
    "version_major": 2,
    "version_minor": 0
   }
  }
 },
 "nbformat": 4,
 "nbformat_minor": 5
}