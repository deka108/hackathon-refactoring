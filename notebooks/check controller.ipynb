{
 "cells": [
  {
   "cell_type": "code",
   "execution_count": 7,
   "id": "70a69c18-3399-4e00-8ff6-663122184def",
   "metadata": {},
   "outputs": [],
   "source": [
    "import sys  \n",
    "sys.path.insert(0, '/Users/deka.akbar/Projects/hackathon-auto-refactoring/')\n",
    "sys.path.insert(0, '/Users/deka.akbar/Projects/hackathon-auto-refactoring/refactoring/')"
   ]
  },
  {
   "cell_type": "code",
   "execution_count": 29,
   "id": "152cffe7-ceee-4db3-8d5d-5778f344955a",
   "metadata": {},
   "outputs": [],
   "source": [
    "%reload_ext autoreload\n",
    "%autoreload 2"
   ]
  },
  {
   "cell_type": "code",
   "execution_count": 30,
   "id": "130a653c-bff4-4269-ac9b-3c2b0acf600c",
   "metadata": {},
   "outputs": [],
   "source": [
    "from refactoring.controller import RefactoringController"
   ]
  },
  {
   "cell_type": "code",
   "execution_count": null,
   "id": "09957f15-ae85-4c1d-b472-87b3c6be3e0e",
   "metadata": {},
   "outputs": [],
   "source": []
  },
  {
   "cell_type": "code",
   "execution_count": 31,
   "id": "f142bfaf-7fd9-4de0-83df-aba81e4785bf",
   "metadata": {},
   "outputs": [],
   "source": [
[API_URL]\"\n",
    "API_TOKEN = \"***REMOVED***\"\n",
    "REPO = \"/Repos/deka.akbar@databricks.com/hackathon-refactoring\""
   ]
  },
  {
   "cell_type": "code",
   "execution_count": 32,
   "id": "960b67a3-f0e9-40bf-a9b8-447f54991e3f",
   "metadata": {},
   "outputs": [],
   "source": [
    "rc = RefactoringController(repo=REPO, api_url=API_URL, api_token=API_TOKEN)"
   ]
  },
  {
   "cell_type": "code",
   "execution_count": 33,
   "id": "6df33537-d4cd-4416-8e23-b05d88361800",
   "metadata": {},
   "outputs": [
    {
     "data": {
      "text/plain": [
       "PosixPath('/tmp/refactor-1a0135b3-3391-4c21-a89c-b8f729942e10')"
      ]
     },
     "execution_count": 33,
     "metadata": {},
     "output_type": "execute_result"
    }
   ],
   "source": [
    "rc._staging_path"
   ]
  },
  {
   "cell_type": "code",
   "execution_count": 41,
   "id": "0ed58f6e-4918-4a07-b791-b5595b6f5ea0",
   "metadata": {},
   "outputs": [
    {
     "name": "stdout",
     "output_type": "stream",
     "text": [
      "/Users/deka.akbar/Projects/hackathon-auto-refactoring/notebooks\n"
     ]
    }
   ],
   "source": [
    "!pwd"
   ]
  },
  {
   "cell_type": "code",
   "execution_count": 42,
   "id": "c94296e2-a811-4ec5-8aa7-6ac9578e7458",
   "metadata": {},
   "outputs": [],
   "source": [
    "rc._client.import_source(\"/Repos/deka.akbar@databricks.com/hackathon-refactoring/test-nb\",\n",
    "                         \"/Users/deka.akbar/Projects/hackathon-auto-refactoring/notebooks/test-nb-changed.py\")"
   ]
  },
  {
   "cell_type": "code",
   "execution_count": 37,
   "id": "91d43789-d675-49f0-a5a5-46ef8a7ec53c",
   "metadata": {},
   "outputs": [
    {
     "name": "stdout",
     "output_type": "stream",
     "text": [
      "__init__.py test.py\n"
     ]
    }
   ],
   "source": [
    "!ls /tmp/refactor-1a0135b3-3391-4c21-a89c-b8f729942e10/tb-dir"
   ]
  },
  {
   "cell_type": "code",
   "execution_count": 38,
   "id": "3209e27b-8a6e-4d51-a792-74191923b474",
   "metadata": {},
   "outputs": [
    {
     "ename": "Exception",
     "evalue": "Unable to export notebook at /Repos/deka.akbar@databricks.com/hackathon-refactoring/tb-dir/test-2.py using format PYTHON: {\"error_code\":\"INVALID_PARAMETER_VALUE\",\"message\":\"Path (/Repos/deka.akbar@databricks.com/hackathon-refactoring/tb-dir/test-2.py) is not a notebook.\"}\n",
     "output_type": "error",
     "traceback": [
      "\u001b[0;31m---------------------------------------------------------------------------\u001b[0m",
      "\u001b[0;31mException\u001b[0m                                 Traceback (most recent call last)",
      "\u001b[0;32m<ipython-input-38-8ac89b18349e>\u001b[0m in \u001b[0;36m<module>\u001b[0;34m\u001b[0m\n\u001b[0;32m----> 1\u001b[0;31m \u001b[0mrc\u001b[0m\u001b[0;34m.\u001b[0m\u001b[0m_client\u001b[0m\u001b[0;34m.\u001b[0m\u001b[0m_export_notebook\u001b[0m\u001b[0;34m(\u001b[0m\u001b[0;34m\"/Repos/deka.akbar@databricks.com/hackathon-refactoring/tb-dir/test-2.py\"\u001b[0m\u001b[0;34m,\u001b[0m \u001b[0;34m\"PYTHON\"\u001b[0m\u001b[0;34m)\u001b[0m\u001b[0;34m\u001b[0m\u001b[0;34m\u001b[0m\u001b[0m\n\u001b[0m",
      "\u001b[0;32m~/Projects/hackathon-auto-refactoring/refactoring/workspace_client.py\u001b[0m in \u001b[0;36m_export_notebook\u001b[0;34m(self, path, content_format)\u001b[0m\n\u001b[1;32m    115\u001b[0m             \u001b[0mresp\u001b[0m \u001b[0;34m=\u001b[0m \u001b[0ms\u001b[0m\u001b[0;34m.\u001b[0m\u001b[0mget\u001b[0m\u001b[0;34m(\u001b[0m\u001b[0mself\u001b[0m\u001b[0;34m.\u001b[0m\u001b[0m_base_url\u001b[0m \u001b[0;34m+\u001b[0m \u001b[0mself\u001b[0m\u001b[0;34m.\u001b[0m\u001b[0m_EXPORT_API\u001b[0m\u001b[0;34m,\u001b[0m \u001b[0mjson\u001b[0m\u001b[0;34m=\u001b[0m\u001b[0mdata\u001b[0m\u001b[0;34m,\u001b[0m \u001b[0mauth\u001b[0m\u001b[0;34m=\u001b[0m\u001b[0mself\u001b[0m\u001b[0;34m.\u001b[0m\u001b[0mget_auth\u001b[0m\u001b[0;34m(\u001b[0m\u001b[0;34m)\u001b[0m\u001b[0;34m)\u001b[0m\u001b[0;34m\u001b[0m\u001b[0;34m\u001b[0m\u001b[0m\n\u001b[1;32m    116\u001b[0m         \u001b[0;32mif\u001b[0m \u001b[0mresp\u001b[0m\u001b[0;34m.\u001b[0m\u001b[0mstatus_code\u001b[0m \u001b[0;34m!=\u001b[0m \u001b[0;36m200\u001b[0m\u001b[0;34m:\u001b[0m\u001b[0;34m\u001b[0m\u001b[0;34m\u001b[0m\u001b[0m\n\u001b[0;32m--> 117\u001b[0;31m             raise Exception(\n\u001b[0m\u001b[1;32m    118\u001b[0m                 f\"Unable to export notebook at {path} using format {content_format}: {resp.text}\")\n\u001b[1;32m    119\u001b[0m \u001b[0;34m\u001b[0m\u001b[0m\n",
      "\u001b[0;31mException\u001b[0m: Unable to export notebook at /Repos/deka.akbar@databricks.com/hackathon-refactoring/tb-dir/test-2.py using format PYTHON: {\"error_code\":\"INVALID_PARAMETER_VALUE\",\"message\":\"Path (/Repos/deka.akbar@databricks.com/hackathon-refactoring/tb-dir/test-2.py) is not a notebook.\"}\n"
     ]
    }
   ],
   "source": [
    "rc._client._export_notebook(\"/Repos/deka.akbar@databricks.com/hackathon-refactoring/tb-dir/test-2.py\", \"PYTHON\")"
   ]
  },
  {
   "cell_type": "code",
   "execution_count": 34,
   "id": "0de45d88-a168-4684-be34-f84df5607255",
   "metadata": {},
   "outputs": [
    {
     "name": "stdout",
     "output_type": "stream",
     "text": [
      "/Repos/deka.akbar@databricks.com/hackathon-refactoring/tb-dir /tmp/refactor-1a0135b3-3391-4c21-a89c-b8f729942e10/tb-dir tb-dir tb-dir\n"
     ]
    },
    {
     "ename": "FileNotFoundError",
     "evalue": "[Errno 2] No such file or directory: '/Workspace/Repos/deka.akbar@databricks.com/hackathon-refactoring/tb-dir/test-2.py'",
     "output_type": "error",
     "traceback": [
      "\u001b[0;31m---------------------------------------------------------------------------\u001b[0m",
      "\u001b[0;31mFileNotFoundError\u001b[0m                         Traceback (most recent call last)",
      "\u001b[0;32m<ipython-input-34-e5e0464606a2>\u001b[0m in \u001b[0;36m<module>\u001b[0;34m\u001b[0m\n\u001b[0;32m----> 1\u001b[0;31m \u001b[0mrc\u001b[0m\u001b[0;34m.\u001b[0m\u001b[0msetup\u001b[0m\u001b[0;34m(\u001b[0m\u001b[0;34m)\u001b[0m\u001b[0;34m\u001b[0m\u001b[0;34m\u001b[0m\u001b[0m\n\u001b[0m",
      "\u001b[0;32m~/Projects/hackathon-auto-refactoring/refactoring/controller.py\u001b[0m in \u001b[0;36msetup\u001b[0;34m(self)\u001b[0m\n\u001b[1;32m     62\u001b[0m         \u001b[0;31m# create staging folder\u001b[0m\u001b[0;34m\u001b[0m\u001b[0;34m\u001b[0m\u001b[0m\n\u001b[1;32m     63\u001b[0m         \u001b[0mself\u001b[0m\u001b[0;34m.\u001b[0m\u001b[0m_create_staging_folder\u001b[0m\u001b[0;34m(\u001b[0m\u001b[0;34m)\u001b[0m\u001b[0;34m\u001b[0m\u001b[0;34m\u001b[0m\u001b[0m\n\u001b[0;32m---> 64\u001b[0;31m         \u001b[0mself\u001b[0m\u001b[0;34m.\u001b[0m\u001b[0mget_all_objects\u001b[0m\u001b[0;34m(\u001b[0m\u001b[0;34m)\u001b[0m\u001b[0;34m\u001b[0m\u001b[0;34m\u001b[0m\u001b[0m\n\u001b[0m\u001b[1;32m     65\u001b[0m \u001b[0;34m\u001b[0m\u001b[0m\n\u001b[1;32m     66\u001b[0m     \u001b[0;32mdef\u001b[0m \u001b[0m_create_staging_folder\u001b[0m\u001b[0;34m(\u001b[0m\u001b[0mself\u001b[0m\u001b[0;34m)\u001b[0m\u001b[0;34m:\u001b[0m\u001b[0;34m\u001b[0m\u001b[0;34m\u001b[0m\u001b[0m\n",
      "\u001b[0;32m~/Projects/hackathon-auto-refactoring/refactoring/controller.py\u001b[0m in \u001b[0;36mget_all_objects\u001b[0;34m(self)\u001b[0m\n\u001b[1;32m     68\u001b[0m \u001b[0;34m\u001b[0m\u001b[0m\n\u001b[1;32m     69\u001b[0m     \u001b[0;32mdef\u001b[0m \u001b[0mget_all_objects\u001b[0m\u001b[0;34m(\u001b[0m\u001b[0mself\u001b[0m\u001b[0;34m)\u001b[0m\u001b[0;34m:\u001b[0m\u001b[0;34m\u001b[0m\u001b[0;34m\u001b[0m\u001b[0m\n\u001b[0;32m---> 70\u001b[0;31m         self.original_objs, self.staging_objs = self.copy_to_staging(\n\u001b[0m\u001b[1;32m     71\u001b[0m             \u001b[0mrepo_dir\u001b[0m\u001b[0;34m=\u001b[0m\u001b[0mself\u001b[0m\u001b[0;34m.\u001b[0m\u001b[0m_repo\u001b[0m\u001b[0;34m,\u001b[0m\u001b[0;34m\u001b[0m\u001b[0;34m\u001b[0m\u001b[0m\n\u001b[1;32m     72\u001b[0m             \u001b[0mparent_staging_dir\u001b[0m\u001b[0;34m=\u001b[0m\u001b[0mself\u001b[0m\u001b[0;34m.\u001b[0m\u001b[0m_staging_path\u001b[0m\u001b[0;34m,\u001b[0m\u001b[0;34m\u001b[0m\u001b[0;34m\u001b[0m\u001b[0m\n",
      "\u001b[0;32m~/Projects/hackathon-auto-refactoring/refactoring/controller.py\u001b[0m in \u001b[0;36mcopy_to_staging\u001b[0;34m(self, repo_dir, parent_staging_dir, parent_dir)\u001b[0m\n\u001b[1;32m    108\u001b[0m \u001b[0;34m\u001b[0m\u001b[0m\n\u001b[1;32m    109\u001b[0m                 \u001b[0;31m# recursively list and get the contents in directory\u001b[0m\u001b[0;34m\u001b[0m\u001b[0;34m\u001b[0m\u001b[0m\n\u001b[0;32m--> 110\u001b[0;31m                 ori_children, staging_children = self.copy_to_staging(\n\u001b[0m\u001b[1;32m    111\u001b[0m                     \u001b[0mrepo_dir\u001b[0m\u001b[0;34m=\u001b[0m\u001b[0mobj_path\u001b[0m\u001b[0;34m,\u001b[0m\u001b[0;34m\u001b[0m\u001b[0;34m\u001b[0m\u001b[0m\n\u001b[1;32m    112\u001b[0m                     \u001b[0mparent_staging_dir\u001b[0m\u001b[0;34m=\u001b[0m\u001b[0mstaging_path\u001b[0m\u001b[0;34m,\u001b[0m\u001b[0;34m\u001b[0m\u001b[0;34m\u001b[0m\u001b[0m\n",
      "\u001b[0;32m~/Projects/hackathon-auto-refactoring/refactoring/controller.py\u001b[0m in \u001b[0;36mcopy_to_staging\u001b[0;34m(self, repo_dir, parent_staging_dir, parent_dir)\u001b[0m\n\u001b[1;32m    117\u001b[0m             \u001b[0;32melif\u001b[0m \u001b[0mobj_type\u001b[0m \u001b[0;34m==\u001b[0m \u001b[0;34m\"FILE\"\u001b[0m\u001b[0;34m:\u001b[0m\u001b[0;34m\u001b[0m\u001b[0;34m\u001b[0m\u001b[0m\n\u001b[1;32m    118\u001b[0m                 \u001b[0mstaging_path\u001b[0m \u001b[0;34m=\u001b[0m \u001b[0mparent_staging_dir\u001b[0m\u001b[0;34m.\u001b[0m\u001b[0mjoinpath\u001b[0m\u001b[0;34m(\u001b[0m\u001b[0mobj_name\u001b[0m\u001b[0;34m)\u001b[0m\u001b[0;34m\u001b[0m\u001b[0;34m\u001b[0m\u001b[0m\n\u001b[0;32m--> 119\u001b[0;31m                 \u001b[0mshutil\u001b[0m\u001b[0;34m.\u001b[0m\u001b[0mcopyfile\u001b[0m\u001b[0;34m(\u001b[0m\u001b[0;34m\"/Workspace\"\u001b[0m \u001b[0;34m+\u001b[0m \u001b[0mobj_path\u001b[0m\u001b[0;34m,\u001b[0m \u001b[0mstaging_path\u001b[0m\u001b[0;34m)\u001b[0m\u001b[0;34m\u001b[0m\u001b[0;34m\u001b[0m\u001b[0m\n\u001b[0m\u001b[1;32m    120\u001b[0m \u001b[0;34m\u001b[0m\u001b[0m\n\u001b[1;32m    121\u001b[0m             \u001b[0;31m# update staging object and index\u001b[0m\u001b[0;34m\u001b[0m\u001b[0;34m\u001b[0m\u001b[0m\n",
      "\u001b[0;32m/usr/local/Cellar/python@3.9/3.9.10/Frameworks/Python.framework/Versions/3.9/lib/python3.9/shutil.py\u001b[0m in \u001b[0;36mcopyfile\u001b[0;34m(src, dst, follow_symlinks)\u001b[0m\n\u001b[1;32m    262\u001b[0m         \u001b[0mos\u001b[0m\u001b[0;34m.\u001b[0m\u001b[0msymlink\u001b[0m\u001b[0;34m(\u001b[0m\u001b[0mos\u001b[0m\u001b[0;34m.\u001b[0m\u001b[0mreadlink\u001b[0m\u001b[0;34m(\u001b[0m\u001b[0msrc\u001b[0m\u001b[0;34m)\u001b[0m\u001b[0;34m,\u001b[0m \u001b[0mdst\u001b[0m\u001b[0;34m)\u001b[0m\u001b[0;34m\u001b[0m\u001b[0;34m\u001b[0m\u001b[0m\n\u001b[1;32m    263\u001b[0m     \u001b[0;32melse\u001b[0m\u001b[0;34m:\u001b[0m\u001b[0;34m\u001b[0m\u001b[0;34m\u001b[0m\u001b[0m\n\u001b[0;32m--> 264\u001b[0;31m         \u001b[0;32mwith\u001b[0m \u001b[0mopen\u001b[0m\u001b[0;34m(\u001b[0m\u001b[0msrc\u001b[0m\u001b[0;34m,\u001b[0m \u001b[0;34m'rb'\u001b[0m\u001b[0;34m)\u001b[0m \u001b[0;32mas\u001b[0m \u001b[0mfsrc\u001b[0m\u001b[0;34m:\u001b[0m\u001b[0;34m\u001b[0m\u001b[0;34m\u001b[0m\u001b[0m\n\u001b[0m\u001b[1;32m    265\u001b[0m             \u001b[0;32mtry\u001b[0m\u001b[0;34m:\u001b[0m\u001b[0;34m\u001b[0m\u001b[0;34m\u001b[0m\u001b[0m\n\u001b[1;32m    266\u001b[0m                 \u001b[0;32mwith\u001b[0m \u001b[0mopen\u001b[0m\u001b[0;34m(\u001b[0m\u001b[0mdst\u001b[0m\u001b[0;34m,\u001b[0m \u001b[0;34m'wb'\u001b[0m\u001b[0;34m)\u001b[0m \u001b[0;32mas\u001b[0m \u001b[0mfdst\u001b[0m\u001b[0;34m:\u001b[0m\u001b[0;34m\u001b[0m\u001b[0;34m\u001b[0m\u001b[0m\n",
      "\u001b[0;31mFileNotFoundError\u001b[0m: [Errno 2] No such file or directory: '/Workspace/Repos/deka.akbar@databricks.com/hackathon-refactoring/tb-dir/test-2.py'"
     ]
    }
   ],
   "source": [
    "rc.setup()"
   ]
  },
  {
   "cell_type": "code",
   "execution_count": null,
   "id": "45d796fd-cf01-4c45-8f6d-60bce6c9de5d",
   "metadata": {},
   "outputs": [],
   "source": []
  }
 ],
 "metadata": {
  "kernelspec": {
   "display_name": "Python 3",
   "language": "python",
   "name": "python3"
  },
  "language_info": {
   "codemirror_mode": {
    "name": "ipython",
    "version": 3
   },
   "file_extension": ".py",
   "mimetype": "text/x-python",
   "name": "python",
   "nbconvert_exporter": "python",
   "pygments_lexer": "ipython3",
   "version": "3.9.10"
  },
  "widgets": {
   "application/vnd.jupyter.widget-state+json": {
    "state": {},
    "version_major": 2,
    "version_minor": 0
   }
  }
 },
 "nbformat": 4,
 "nbformat_minor": 5
}
